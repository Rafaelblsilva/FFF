{
 "cells": [
  {
   "cell_type": "markdown",
   "metadata": {},
   "source": [
    "Experiments on variations of FFF.  \n",
    "π 25 Nov 2023.\n",
    "\n",
    "Kept (for now) for posterity.\n",
    "\n",
    "For a more up-to-date version of these experiments, go to `experiments/2023-11-29--fff-topk-lora.ipynb`"
   ]
  },
  {
   "cell_type": "code",
   "execution_count": 1,
   "metadata": {},
   "outputs": [],
   "source": [
    "! pip install -q torch torchvision tqdm"
   ]
  },
  {
   "cell_type": "code",
   "execution_count": 2,
   "metadata": {},
   "outputs": [],
   "source": [
    "NEPOCH = 5\n",
    "BATCH_SIZE = 128\n",
    "\n",
    "EVERY_N = -1  # Print loss every N batches. -1 to disable"
   ]
  },
  {
   "cell_type": "code",
   "execution_count": 3,
   "metadata": {},
   "outputs": [],
   "source": [
    "import torch\n",
    "import numpy as np\n",
    "import random\n",
    "\n",
    "# Set a random seed\n",
    "random_seed = 1337\n",
    "\n",
    "# PyTorch\n",
    "torch.manual_seed(random_seed)\n",
    "if torch.cuda.is_available():\n",
    "    torch.cuda.manual_seed_all(random_seed)\n",
    "\n",
    "# Numpy\n",
    "np.random.seed(random_seed)\n",
    "\n",
    "# Python's `random` module\n",
    "random.seed(random_seed)\n",
    "\n",
    "# If you are using cudnn, set this to True to make computation deterministic\n",
    "# Note: This might reduce performance\n",
    "torch.backends.cudnn.deterministic = True\n",
    "torch.backends.cudnn.benchmark = False\n"
   ]
  },
  {
   "cell_type": "code",
   "execution_count": 4,
   "metadata": {},
   "outputs": [],
   "source": [
    "from torch import nn, functional as F\n",
    "import math\n",
    "import torch\n",
    "import torch.nn as nn\n",
    "import torch.nn.functional as F\n",
    "import torch.optim as optim\n",
    "from tqdm import tqdm"
   ]
  },
  {
   "cell_type": "markdown",
   "metadata": {},
   "source": [
    "# Load MNIST"
   ]
  },
  {
   "cell_type": "code",
   "execution_count": 5,
   "metadata": {},
   "outputs": [],
   "source": [
    "import torchvision\n",
    "import torchvision.transforms as transforms\n",
    "\n",
    "# Transformations\n",
    "transform = transforms.Compose([transforms.ToTensor(), transforms.Normalize((0.5,), (0.5,))])\n",
    "\n",
    "# MNIST dataset\n",
    "trainset = torchvision.datasets.MNIST(root='./data', train=True, download=True, transform=transform)\n",
    "testset = torchvision.datasets.MNIST(root='./data', train=False, download=True, transform=transform)\n",
    "\n",
    "# Data loaders\n",
    "trainloader = torch.utils.data.DataLoader(trainset, batch_size=BATCH_SIZE, shuffle=True)\n",
    "testloader = torch.utils.data.DataLoader(testset, batch_size=len(testset), shuffle=False)\n"
   ]
  },
  {
   "cell_type": "markdown",
   "metadata": {},
   "source": [
    "# Test harness"
   ]
  },
  {
   "cell_type": "code",
   "execution_count": 6,
   "metadata": {},
   "outputs": [],
   "source": [
    "def train_and_test(net):\n",
    "    # Loss function and optimizer\n",
    "    criterion = nn.CrossEntropyLoss()\n",
    "    optimizer = optim.AdamW(net.parameters(), lr=0.001) #, momentum=0.9)\n",
    "\n",
    "    # Training the network\n",
    "    for epoch in tqdm(range(NEPOCH)):  # loop over the dataset multiple times\n",
    "        running_loss = 0.0\n",
    "        for i, data in enumerate(trainloader, 0):\n",
    "            inputs, labels = data\n",
    "\n",
    "            optimizer.zero_grad()\n",
    "            outputs = net(inputs)\n",
    "            loss = criterion(outputs, labels)\n",
    "            if hasattr(net, 'orthogonality_penalty'):\n",
    "                loss += .001 * net.orthogonality_penalty()\n",
    "            loss.backward()\n",
    "            optimizer.step()\n",
    "\n",
    "            running_loss += loss.item()\n",
    "            if i % EVERY_N == EVERY_N - 1:  # print EVERY_N mini-batches\n",
    "                print(f'[{epoch + 1}, {i + 1:5d}] loss: {running_loss / EVERY_N:.3f}')\n",
    "                running_loss = 0.0\n",
    "\n",
    "    print('Finished Training')\n",
    "\n",
    "    # Testing the network on the test data\n",
    "    correct, total = 0, 0\n",
    "    with torch.no_grad():\n",
    "        for data in testloader:\n",
    "            images, labels = data\n",
    "            outputs = net(images)\n",
    "            _, predicted = torch.max(outputs.data, 1)\n",
    "            total += labels.size(0)\n",
    "            correct += (predicted == labels).sum().item()\n",
    "\n",
    "    print(f'Accuracy of the network over test images: {100 * correct / total:.3f} %')\n"
   ]
  },
  {
   "cell_type": "markdown",
   "metadata": {},
   "source": [
    "# 🔹 Baseline (Fully connected) `97.08%`"
   ]
  },
  {
   "cell_type": "code",
   "execution_count": 7,
   "metadata": {},
   "outputs": [
    {
     "name": "stderr",
     "output_type": "stream",
     "text": [
      "100%|██████████| 5/5 [00:14<00:00,  2.80s/it]\n"
     ]
    },
    {
     "name": "stdout",
     "output_type": "stream",
     "text": [
      "Finished Training\n",
      "Accuracy of the network over test images: 97.080 %\n"
     ]
    }
   ],
   "source": [
    "# Neural network architecture\n",
    "class Net(nn.Module):\n",
    "    def __init__(self):\n",
    "        super(Net, self).__init__()\n",
    "        self.fc1 = nn.Linear(28*28, 500)\n",
    "        self.fc2 = nn.Linear(500, 10)\n",
    "\n",
    "    def forward(self, x):\n",
    "        x = x.view(-1, 28*28)\n",
    "        x = F.relu(self.fc1(x))\n",
    "        x = self.fc2(x)\n",
    "        return x\n",
    "\n",
    "train_and_test(Net())\n"
   ]
  },
  {
   "cell_type": "markdown",
   "metadata": {},
   "source": [
    "# 🔸 PiSlice_topk `95.48%`\n",
    "\n",
    "Choose the k best nodes for each computation, as measured by x DOT node.x\n",
    "\n",
    "Significantly outperforms FFF\n",
    "\n",
    "Requires nNodes dot-products, a top-k selection, and k Y-projections"
   ]
  },
  {
   "cell_type": "code",
   "execution_count": 8,
   "metadata": {},
   "outputs": [],
   "source": [
    "! pip install -q lovely-tensors"
   ]
  },
  {
   "cell_type": "code",
   "execution_count": 9,
   "metadata": {},
   "outputs": [],
   "source": [
    "import lovely_tensors as lt\n",
    "lt.monkey_patch()"
   ]
  },
  {
   "cell_type": "code",
   "execution_count": 10,
   "metadata": {},
   "outputs": [
    {
     "name": "stderr",
     "output_type": "stream",
     "text": [
      "100%|██████████| 5/5 [00:19<00:00,  3.97s/it]\n"
     ]
    },
    {
     "name": "stdout",
     "output_type": "stream",
     "text": [
      "Finished Training\n",
      "Accuracy of the network over test images: 95.820 %\n"
     ]
    }
   ],
   "source": [
    "class PiSlice_topk(nn.Module):\n",
    "    def __init__(self, nIn, nOut, nNodes, nWinners) -> None:\n",
    "        super().__init__()\n",
    "        self.nWinners = nWinners\n",
    "        def random_unit_vectors_of(length):\n",
    "            weights = torch.randn(nNodes, length)  # Initialize weights randomly\n",
    "            weights = F.normalize(weights, p=2, dim=-1)  # L2-Normalize along the last dimension\n",
    "            return nn.Parameter(weights)\n",
    "        self.basisX = random_unit_vectors_of(length=nIn)\n",
    "        self.basisY = random_unit_vectors_of(length=nOut)\n",
    "\n",
    "    def forward(self, x: torch.Tensor):\n",
    "        nBatch, nWinners = x.shape[0], self.nWinners\n",
    "\n",
    "        # for each node, we calc: lambda = x DOT node.x\n",
    "        #   i.e. lambdas = [x DOT node.x for node in nodes]\n",
    "        #   b: nBatch, n: n_nodes, x: nIn\n",
    "        lambdas = torch.einsum('bx, nx -> bn', x, self.basisX)\n",
    "\n",
    "        # Get the values and indices of the top k largest values in lambdas\n",
    "        topk_lambdas, topk_indices = torch.topk(lambdas, nWinners, dim=-1)\n",
    "\n",
    "        y = torch.zeros(nBatch, self.basisY.size(-1), device=x.device, dtype=x.dtype)\n",
    "        for i in range(nWinners):\n",
    "            idx_over_batch = topk_indices[:, i]\n",
    "            lambda_over_batch = lambdas[torch.arange(nBatch), idx_over_batch]\n",
    "            nodeY_over_batch = self.basisY[idx_over_batch]\n",
    "\n",
    "            # y += lambda * nodeY\n",
    "            y += torch.einsum(\"b, by -> by\", lambda_over_batch, nodeY_over_batch)\n",
    "\n",
    "        return y\n",
    "\n",
    "# Neural network architecture\n",
    "class Net(nn.Module):\n",
    "    def __init__(self):\n",
    "        super(Net, self).__init__()\n",
    "        self.fc1 = PiSlice_topk(nIn=28*28, nOut=500, nNodes=64, nWinners=8)\n",
    "        self.fc2 = PiSlice_topk(nIn=500, nOut=10, nNodes=64, nWinners=8)\n",
    "    def forward(self, x):\n",
    "        x = x.view(-1, 28*28)\n",
    "        y_hat = self.fc2(torch.relu(self.fc1(x)))\n",
    "        # y_hat = self.fc2(self.fc1(x))\n",
    "        return y_hat\n",
    "\n",
    "train_and_test(Net())"
   ]
  },
  {
   "cell_type": "markdown",
   "metadata": {},
   "source": [
    "# 🔸 .clamp(min=0) `96.12%`\n",
    "\n",
    "Simplified. Any lambda < 0 is set to 0.\n",
    "\n",
    "We're doing nNodes y-projections instead of top-k."
   ]
  },
  {
   "cell_type": "code",
   "execution_count": 11,
   "metadata": {},
   "outputs": [
    {
     "name": "stderr",
     "output_type": "stream",
     "text": [
      "100%|██████████| 5/5 [00:13<00:00,  2.65s/it]\n"
     ]
    },
    {
     "name": "stdout",
     "output_type": "stream",
     "text": [
      "Finished Training\n",
      "Accuracy of the network over test images: 96.120 %\n"
     ]
    }
   ],
   "source": [
    "class PiSlice_relu(nn.Module):\n",
    "    def __init__(self, nIn, nOut, nNodes) -> None:\n",
    "        super().__init__()\n",
    "        def random_unit_vectors_of(length):\n",
    "            weights = torch.randn(nNodes, length)  # Initialize weights randomly\n",
    "            weights = F.normalize(weights, p=2, dim=-1)  # L2-Normalize along the last dimension\n",
    "            return nn.Parameter(weights)\n",
    "        self.basisX = random_unit_vectors_of(length=nIn)\n",
    "        self.basisY = random_unit_vectors_of(length=nOut)\n",
    "\n",
    "    def forward(self, x: torch.Tensor):\n",
    "        nBatch = x.shape[0]\n",
    "\n",
    "        # for each node, we calc: lambda = x DOT node.x\n",
    "        #   i.e. lambdas = [x DOT node.x for node in nodes]\n",
    "        #   b: nBatch, n: n_nodes, x: nIn\n",
    "        lambdas = torch.einsum('bx, nx -> bn', x, self.basisX)\n",
    "\n",
    "        y = torch.einsum('bn, ny -> by', lambdas.clamp(min=0), self.basisY)\n",
    "\n",
    "        return y\n",
    "\n",
    "# Neural network architecture\n",
    "class Net(nn.Module):\n",
    "    def __init__(self):\n",
    "        super(Net, self).__init__()\n",
    "        self.fc1 = PiSlice_relu(nIn=28*28, nOut=500, nNodes=64)\n",
    "        self.fc2 = PiSlice_relu(nIn=500, nOut=10, nNodes=64)\n",
    "    def forward(self, x):\n",
    "        x = x.view(-1, 28*28)\n",
    "        y_hat = self.fc2(torch.relu(self.fc1(x)))\n",
    "        # y_hat = self.fc2(self.fc1(x))\n",
    "        return y_hat\n",
    "\n",
    "train_and_test(Net())"
   ]
  },
  {
   "cell_type": "markdown",
   "metadata": {},
   "source": [
    "# 🔸 Orthogonality penalty `97.01%`\n",
    "\n",
    "Encourage basis vectors to be orthogonal to each other in input space.\n",
    "Similarly for output space."
   ]
  },
  {
   "cell_type": "code",
   "execution_count": 12,
   "metadata": {},
   "outputs": [
    {
     "name": "stderr",
     "output_type": "stream",
     "text": [
      "100%|██████████| 5/5 [00:13<00:00,  2.75s/it]\n"
     ]
    },
    {
     "name": "stdout",
     "output_type": "stream",
     "text": [
      "Finished Training\n",
      "Accuracy of the network over test images: 97.010 %\n"
     ]
    }
   ],
   "source": [
    "class PiSlice_relu_ortho(nn.Module):\n",
    "    def __init__(self, nIn, nOut, nNodes) -> None:\n",
    "        super().__init__()\n",
    "        def random_unit_vectors_of(length):\n",
    "            weights = torch.randn(nNodes, length)  # Initialize weights randomly\n",
    "            weights = F.normalize(weights, p=2, dim=-1)  # L2-Normalize along the last dimension\n",
    "            return nn.Parameter(weights)\n",
    "        self.basisX = random_unit_vectors_of(length=nIn)\n",
    "        self.basisY = random_unit_vectors_of(length=nOut)\n",
    "\n",
    "    def forward(self, x: torch.Tensor):\n",
    "        nBatch = x.shape[0]\n",
    "\n",
    "        # for each node, we calc: lambda = x DOT node.x\n",
    "        #   i.e. lambdas = [x DOT node.x for node in nodes]\n",
    "        #   b: nBatch, n: n_nodes, x: nIn\n",
    "        lambdas = torch.einsum('bx, nx -> bn', x, self.basisX)\n",
    "\n",
    "        # y = sum(node.lambda * node.y if node.lambda > 0)\n",
    "        y = torch.einsum('bn, ny -> by', lambdas.clamp(min=0), self.basisY)\n",
    "\n",
    "        return y\n",
    "\n",
    "def orthogonality_loss(basis_vectors):\n",
    "    # Compute pairwise dot products\n",
    "    dot_products = torch.matmul(basis_vectors, basis_vectors.T)\n",
    "    \n",
    "    # Zero out diagonal elements (self dot products)\n",
    "    eye = torch.eye(dot_products.size(0)).to(dot_products.device)\n",
    "    dot_products = dot_products * (1 - eye)\n",
    "    \n",
    "    # Sum of squares of off-diagonal elements (which should be close to zero)\n",
    "    loss = (dot_products ** 2).sum()\n",
    "    return loss\n",
    "\n",
    "# Neural network architecture\n",
    "class Net(nn.Module):\n",
    "    def __init__(self):\n",
    "        super(Net, self).__init__()\n",
    "        self.fc1 = PiSlice_relu_ortho(nIn=28*28, nOut=500, nNodes=64)\n",
    "        self.fc2 = PiSlice_relu_ortho(nIn=500, nOut=10, nNodes=32)\n",
    "    def forward(self, x):\n",
    "        x = x.view(-1, 28*28)\n",
    "        y_hat = self.fc2(torch.relu(self.fc1(x)))\n",
    "        # y_hat = self.fc2(self.fc1(x))\n",
    "        return y_hat\n",
    "    def orthogonality_penalty(self):\n",
    "        # Calculate orthogonality loss for each PiSlice layer\n",
    "        loss1 = orthogonality_loss(self.fc1.basisX) + orthogonality_loss(self.fc1.basisY)\n",
    "        loss2 = orthogonality_loss(self.fc2.basisX) + orthogonality_loss(self.fc2.basisY)\n",
    "        return loss1 + loss2\n",
    "    \n",
    "train_and_test(Net())"
   ]
  }
 ],
 "metadata": {
  "kernelspec": {
   "display_name": ".venv",
   "language": "python",
   "name": "python3"
  },
  "language_info": {
   "codemirror_mode": {
    "name": "ipython",
    "version": 3
   },
   "file_extension": ".py",
   "mimetype": "text/x-python",
   "name": "python",
   "nbconvert_exporter": "python",
   "pygments_lexer": "ipython3",
   "version": "3.11.6"
  }
 },
 "nbformat": 4,
 "nbformat_minor": 2
}
