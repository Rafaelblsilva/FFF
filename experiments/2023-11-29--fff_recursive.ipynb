{
 "cells": [
  {
   "cell_type": "markdown",
   "metadata": {},
   "source": [
    "# FFF prototype for CUDA Optimization\n",
    "\n",
    "The problem with efficiently implementing FFF:\n",
    "\n",
    "- profiling shows ~50% of wall time is spent in lookups\n",
    "- each batch-item takes a different route thru the tree\n",
    "- this forces many lookups: e.g. tree depth 8, nBatch=1024 -> 8k lookups\n",
    "\n",
    "Another way to look at this is: there's a lot of unpredictable branching\n",
    "\n",
    "# Proposal\n",
    "- use a recursion, for a given node we receive a list of batch-item indices\n",
    "- we split out 2 lists of indices that branch left and indices that branch right\n",
    "- we then recurse to the left node, passing left-branching indices, and sim. for right node\n",
    "\n",
    "If nBatch >> nNodes, this should represent a huge speedup\n",
    "\n",
    "A few ideas for further consideration:\n",
    "- It may make sense to pass in a boolean list of indices, where indices to be considered are set to 1, else 0\n",
    "- It may make sense to swap pairs of batch-items, so that the algo effectively sorts batch-items\n",
    "  - so items reaching 0000 go first, then those reaching 0001, etc.\n",
    "\n",
    "# Tests\n",
    "- Testing `fff(x) == ffff(x)` shows the algo works.\n",
    "  - A small numerical imprecision creeps in with large batch-sizes, but it doesn't seem to be a problem\n",
    "- Training5 batches on MNIST confirms: it achieves the same 93% that FFF does.\n",
    "- However it's about 5x slower\n",
    "- This isn't a problem, as this is a proof of concept\n",
    "- If you increase BATCH_SIZE and re-run, you'll see it's significantly faster\n",
    "\n",
    "# Conclusion\n",
    "- For deep trees and small batch-sizes, the naive impl wins\n",
    "- For shallow trees and large batch-sizes, this recursive approach starts to win\n",
    "- Somewhere there will be a cutoff point\n",
    "- This will likely be useful for training, where large batch-sizes are expected\n",
    "- So we'll probably want this algo for training, and the naive algo for inference"
   ]
  },
  {
   "cell_type": "code",
   "execution_count": 1,
   "metadata": {},
   "outputs": [],
   "source": [
    "from typing import Optional\n",
    "from math import floor, log2, sqrt\n",
    "import random\n",
    "\n",
    "import numpy as np\n",
    "\n",
    "import torch\n",
    "import torch.nn as nn\n",
    "import torch.nn.functional as F\n"
   ]
  },
  {
   "cell_type": "code",
   "execution_count": 2,
   "metadata": {},
   "outputs": [],
   "source": [
    "import lovely_tensors as lt\n",
    "lt.monkey_patch()"
   ]
  },
  {
   "cell_type": "code",
   "execution_count": 3,
   "metadata": {},
   "outputs": [],
   "source": [
    "NEPOCH = 5\n",
    "BATCH_SIZE = 64\n",
    "EVERY_N = 200\n",
    "INIT_STRAT = 'hyperspherical-shell'\n"
   ]
  },
  {
   "cell_type": "code",
   "execution_count": 4,
   "metadata": {},
   "outputs": [],
   "source": [
    "\n",
    "def set_random_seed(random_seed=-1):\n",
    "    if random_seed == -1:\n",
    "        random_seed = 42\n",
    "    # PyTorch\n",
    "    torch.manual_seed(random_seed)\n",
    "    if torch.cuda.is_available():\n",
    "        torch.cuda.manual_seed_all(random_seed)\n",
    "\n",
    "    # Numpy\n",
    "    np.random.seed(random_seed)\n",
    "\n",
    "    # Python's `random` module\n",
    "    random.seed(random_seed)\n",
    "\n",
    "    # If you are using cudnn, set this to True to make computation deterministic\n",
    "    # Note: This might reduce performance\n",
    "    torch.backends.cudnn.deterministic = True\n",
    "    torch.backends.cudnn.benchmark = False\n"
   ]
  },
  {
   "cell_type": "code",
   "execution_count": 5,
   "metadata": {},
   "outputs": [],
   "source": [
    "class FFF(nn.Module):\n",
    "    def __init__(self, nIn: int, nOut: int, depth: Optional[int] = None):\n",
    "        super().__init__()\n",
    "        self.depth = depth or int(floor(log2(nIn)))  # depth is the number of decision boundaries\n",
    "        nNodes = 2 ** self.depth - 1\n",
    "\n",
    "        # each node \"holds\" a basis-vector in INPUT space (.X) and in OUTPUT space (.Y)\n",
    "\n",
    "        if INIT_STRAT == 'gaussian':\n",
    "            # This from orig authors; scaling looks off for self.Y\n",
    "            def create_basis_vectors_of(length, scaling):\n",
    "                return nn.Parameter(torch.empty(nNodes, length).uniform_(-scaling, scaling))\n",
    "            self.X = create_basis_vectors_of(length=nIn, scaling=1/sqrt(nIn))\n",
    "            self.Y = create_basis_vectors_of(length=nOut, scaling=1/sqrt(self.depth + 1))\n",
    "\n",
    "        elif INIT_STRAT == 'hyperspherical-shell':\n",
    "            # Initialize vectors on INPUT/OUTPUT space unit hypersphere\n",
    "            #   (idea: basis vectors should be of unit length).\n",
    "            def create_random_unit_vectors_of(length):\n",
    "                weights = torch.randn(nNodes, length)  # Initialize weights randomly\n",
    "                weights = F.normalize(weights, p=2, dim=-1)  # L2-Normalize along the last dimension\n",
    "                return nn.Parameter(weights)\n",
    "            self.X = create_random_unit_vectors_of(length=nIn)\n",
    "            self.Y = create_random_unit_vectors_of(length=nOut)\n",
    "\n",
    "    def forward(self, x: torch.Tensor):\n",
    "        nBatch, nIn, nOut = x.shape[0], self.X.shape[-1], self.Y.shape[-1]\n",
    "\n",
    "        current_node = torch.zeros(nBatch, dtype=torch.long, device=x.device)\n",
    "\n",
    "        # Walk the tree, assembling y piecemeal\n",
    "        y = torch.zeros((nBatch, nOut), dtype=torch.float, device=x.device)\n",
    "        for _ in range(self.depth):\n",
    "            # Project x onto the current node's INPUT basis vector\n",
    "            #   λ = x DOT currNode.X\n",
    "            # (nBatch, nIn,) (nBatch, nIn) -> (nBatch,)\n",
    "            λ = torch.einsum(\"b i, b i -> b\", x, self.X[current_node])\n",
    "\n",
    "            # Project this contribution into OUTPUT space:\n",
    "            #   y += λ currNode.Y\n",
    "            # (nBatch,) (nBatch, nOut) -> (nBatch, nOut)\n",
    "            y += torch.einsum(\"b, b j -> b j\", λ, self.Y[current_node])\n",
    "\n",
    "            # We'll branch right if x is \"sunny-side\" of the\n",
    "            # hyperplane defined by node.x (else left)\n",
    "            branch_choice = (λ > 0).long()\n",
    "\n",
    "            # figure out index of node in next layer to visit\n",
    "            current_node = (current_node * 2) + 1 + branch_choice\n",
    "\n",
    "        return y\n",
    "\n",
    "    def __repr__(self):\n",
    "        return f\"FFF({self.X.shape[-1]}, {self.Y.shape[-1]}, depth={self.depth})\"\n"
   ]
  },
  {
   "cell_type": "code",
   "execution_count": 6,
   "metadata": {},
   "outputs": [],
   "source": [
    "class FFFF(nn.Module):\n",
    "    def __init__(self, nIn: int, nOut: int, depth: Optional[int] = None):\n",
    "        super().__init__()\n",
    "        self.depth = depth or int(floor(log2(nIn)))  # depth is the number of decision boundaries\n",
    "        nNodes = 2 ** self.depth - 1\n",
    "\n",
    "        # each node \"holds\" a basis-vector in INPUT space (.X) and in OUTPUT space (.Y)\n",
    "\n",
    "        if INIT_STRAT == 'gaussian':\n",
    "            # This from orig authors; scaling looks off for self.Y\n",
    "            def create_basis_vectors_of(length, scaling):\n",
    "                return nn.Parameter(torch.empty(nNodes, length).uniform_(-scaling, scaling))\n",
    "            self.X = create_basis_vectors_of(length=nIn, scaling=1/sqrt(nIn))\n",
    "            self.Y = create_basis_vectors_of(length=nOut, scaling=1/sqrt(self.depth + 1))\n",
    "\n",
    "        elif INIT_STRAT == 'hyperspherical-shell':\n",
    "            # Initialize vectors on INPUT/OUTPUT space unit hypersphere\n",
    "            #   (idea: basis vectors should be of unit length).\n",
    "            def create_random_unit_vectors_of(length):\n",
    "                weights = torch.randn(nNodes, length)  # Initialize weights randomly\n",
    "                weights = F.normalize(weights, p=2, dim=-1)  # L2-Normalize along the last dimension\n",
    "                return nn.Parameter(weights)\n",
    "            self.X = create_random_unit_vectors_of(length=nIn)\n",
    "            self.Y = create_random_unit_vectors_of(length=nOut)\n",
    "\n",
    "    # assuming batch_size >> treeSize\n",
    "    def forward(self, x: torch.Tensor):\n",
    "        nBatch, nOut = x.shape[0], self.Y.shape[-1]\n",
    "\n",
    "        y = torch.zeros((nBatch, nOut), dtype=torch.float)\n",
    "\n",
    "        def process_node(depth, curr_node, indices):\n",
    "            # print(f'{\" \"*depth*4}depth: {depth}, curr_node: {curr_node}, indices: {indices.tolist()}')\n",
    "            if depth == self.depth or len(indices) == 0:\n",
    "                return\n",
    "\n",
    "            # Project x[indices] onto the current node's INPUT basis vector\n",
    "            #   λ = x[indices] DOT currNode.X\n",
    "            λ = torch.einsum(\"ni, i -> n\", x[indices], self.X[curr_node])  # (nInd, nIn), nIn -> nInd\n",
    "\n",
    "            # Update y-values for our indices\n",
    "            #   y[indices] += λ * self.Y[indices]\n",
    "            y[indices] += torch.einsum(\"n, j -> nj\", λ, self.Y[curr_node])  # nInd, nOut -> nInd, nOut\n",
    "\n",
    "            mask = λ < 0.0\n",
    "            process_node(depth+1, 2*curr_node + 1, indices[mask])\n",
    "            process_node(depth+1, 2*curr_node + 2, indices[~mask])\n",
    "\n",
    "        # our root node will process ALL batch-items\n",
    "        all_indices = torch.arange(nBatch, dtype=torch.int)\n",
    "\n",
    "        process_node(curr_node=0, depth=0, indices=all_indices)\n",
    "        return y\n"
   ]
  },
  {
   "cell_type": "code",
   "execution_count": 7,
   "metadata": {},
   "outputs": [
    {
     "name": "stdout",
     "output_type": "stream",
     "text": [
      "nBatch    nIn   nOut   depth\n",
      "    99      8      8   2      ✅ 5.882773166376865e-07\n",
      "   100      8      8   2      ❌ 5.738617687711667e-07\n",
      "     3    126     64   3      ✅ 0.0\n",
      "     3    127     64   3      ✅ 0.0\n",
      "     3    126      1   3      ✅ 0.0\n",
      "     3    127      1   3      ✅ 0.0\n",
      "     1  10000  10000   8      ✅ 0.0\n",
      "SEED=0\n",
      "     3    126      1   3      ✅ 0.0\n",
      "     3    127      1   3      ✅ 0.0\n",
      "SEED=1\n",
      "     3    126      1   3      ✅ 0.0\n",
      "     3    127      1   3      ✅ 0.0\n",
      "SEED=2\n",
      "     3    126      1   3      ✅ 0.0\n",
      "     3    127      1   3      ✅ 0.0\n",
      "SEED=3\n",
      "     3    126      1   3      ✅ 0.0\n",
      "     3    127      1   3      ✅ 0.0\n"
     ]
    }
   ],
   "source": [
    "def test_forward_pass(NBATCH, NIN, NOUT, DEPTH, SEED=-1):\n",
    "    set_random_seed(SEED)\n",
    "    x1 = torch.rand((NBATCH, NIN))\n",
    "    fff = FFF(NIN, NOUT, DEPTH)\n",
    "    y1 = fff(x1)\n",
    "\n",
    "    set_random_seed(SEED)\n",
    "    x2 = torch.rand((NBATCH, NIN))\n",
    "    ffff = FFFF(NIN, NOUT, DEPTH)\n",
    "    y2 = ffff(x2)\n",
    "\n",
    "    assert torch.allclose(x1, x2)\n",
    "\n",
    "    # print('diff:', float(torch.norm(y1)), float(torch.norm(y2)), float(torch.norm(y1 - y2)))\n",
    "\n",
    "    print(f'  {NBATCH:4d} {NIN:6d} {NOUT:6d} {DEPTH:3d}     ', '✅' if torch.allclose(y1, y2) else '❌', float(torch.norm(y1 - y2)))\n",
    "\n",
    "print('nBatch    nIn   nOut   depth')   \n",
    "test_forward_pass(99, 8, 8, 2)\n",
    "test_forward_pass(100, 8, 8, 2)\n",
    "\n",
    "test_forward_pass(3, 126, 64, 3)\n",
    "test_forward_pass(3, 127, 64, 3)\n",
    "\n",
    "test_forward_pass(3, 126, 1, 3)\n",
    "test_forward_pass(3, 127, 1, 3)\n",
    "\n",
    "test_forward_pass(1, 10000, 10000, 8)\n",
    "\n",
    "for seed in range(4):\n",
    "    print(f'SEED={seed}')\n",
    "    test_forward_pass(3, 126, 1, 3, seed)\n",
    "    test_forward_pass(3, 127, 1, 3, seed)\n"
   ]
  },
  {
   "cell_type": "code",
   "execution_count": 8,
   "metadata": {},
   "outputs": [
    {
     "name": "stdout",
     "output_type": "stream",
     "text": [
      "Matched 2 of 2\n"
     ]
    }
   ],
   "source": [
    "def test_backward_pass():\n",
    "    # Assuming FFF and FFFF are defined and have the same parameters for a fair comparison\n",
    "\n",
    "    NBATCH = 10\n",
    "    NIN, NOUT = 512, 1024\n",
    "\n",
    "    # Set random seed and initialize models\n",
    "    set_random_seed()\n",
    "    fff = FFF(NIN, NOUT, depth=4)\n",
    "    set_random_seed()\n",
    "    ffff = FFFF(NIN, NOUT, depth=4)\n",
    "\n",
    "    # Forward pass\n",
    "    x = torch.rand((NBATCH, NIN))\n",
    "    y1 = fff(x)\n",
    "    y2 = ffff(x)\n",
    "\n",
    "    assert torch.allclose(y1, y2)\n",
    "\n",
    "\n",
    "    # Create a dummy target\n",
    "    target = torch.rand_like(y1)\n",
    "\n",
    "    # Compute loss\n",
    "    loss1 = F.mse_loss(y1, target)\n",
    "    loss2 = F.mse_loss(y2, target)\n",
    "\n",
    "    # Backward pass\n",
    "    loss1.backward()\n",
    "    loss2.backward()\n",
    "\n",
    "    # Check gradients\n",
    "    passes, fails = 0, 0\n",
    "    for (p, q) in zip(fff.parameters(), ffff.parameters()):\n",
    "        if torch.allclose(p.grad, q.grad, atol=1e-6):\n",
    "            passes += 1\n",
    "        else:\n",
    "            fails += 1\n",
    "\n",
    "    print(f'Matched {passes} of {passes + fails}')\n",
    "\n",
    "test_backward_pass()"
   ]
  },
  {
   "cell_type": "markdown",
   "metadata": {},
   "source": [
    "# Load MNIST"
   ]
  },
  {
   "cell_type": "code",
   "execution_count": 9,
   "metadata": {},
   "outputs": [],
   "source": [
    "import torchvision\n",
    "import torchvision.transforms as transforms\n",
    "\n",
    "# Transformations\n",
    "transform = transforms.Compose([transforms.ToTensor(), transforms.Normalize((0.5,), (0.5,))])\n",
    "\n",
    "# MNIST dataset\n",
    "trainset = torchvision.datasets.MNIST(root='./data', train=True, download=True, transform=transform)\n",
    "testset = torchvision.datasets.MNIST(root='./data', train=False, download=True, transform=transform)\n",
    "\n",
    "# Data loaders\n",
    "trainloader = torch.utils.data.DataLoader(trainset, batch_size=BATCH_SIZE, shuffle=True)\n",
    "testloader = torch.utils.data.DataLoader(testset, batch_size=len(testset), shuffle=False)\n"
   ]
  },
  {
   "cell_type": "markdown",
   "metadata": {},
   "source": [
    "# Test harness"
   ]
  },
  {
   "cell_type": "code",
   "execution_count": 10,
   "metadata": {},
   "outputs": [],
   "source": [
    "from torch import nn, functional as F\n",
    "import math\n",
    "import torch\n",
    "import torch.nn as nn\n",
    "import torch.nn.functional as F\n",
    "import torch.optim as optim\n",
    "from tqdm import tqdm"
   ]
  },
  {
   "cell_type": "code",
   "execution_count": 11,
   "metadata": {},
   "outputs": [],
   "source": [
    "# We'll use this later\n",
    "def orthogonality_loss(basis_vectors):\n",
    "    # Compute pairwise dot products\n",
    "    dot_products = torch.matmul(basis_vectors, basis_vectors.T)\n",
    "    \n",
    "    # Zero out diagonal elements (self dot products)\n",
    "    eye = torch.eye(dot_products.size(0)).to(dot_products.device)\n",
    "    dot_products = dot_products * (1 - eye)\n",
    "    \n",
    "    # Sum of squares of off-diagonal elements (which should be close to zero)\n",
    "    loss = (dot_products ** 2).sum()\n",
    "    return loss"
   ]
  },
  {
   "cell_type": "code",
   "execution_count": 12,
   "metadata": {},
   "outputs": [],
   "source": [
    "def train_and_test(net, ortho=False):\n",
    "    # Loss function and optimizer\n",
    "    criterion = nn.CrossEntropyLoss()\n",
    "    optimizer = optim.AdamW(net.parameters(), lr=0.001) #, momentum=0.9)\n",
    "\n",
    "    # Training the network\n",
    "    for epoch in tqdm(range(NEPOCH)):  # loop over the dataset multiple times\n",
    "        running_loss = 0.0\n",
    "        for i, data in enumerate(trainloader, 0):\n",
    "            inputs, labels = data\n",
    "\n",
    "            optimizer.zero_grad()\n",
    "            outputs = net(inputs)\n",
    "            loss = criterion(outputs, labels)\n",
    "            if ortho:  # hasattr(net, 'orthogonality_penalty'):\n",
    "                loss += .001 * net.orthogonality_penalty()\n",
    "            loss.backward()\n",
    "            optimizer.step()\n",
    "\n",
    "            running_loss += loss.item()\n",
    "            if i % EVERY_N == EVERY_N - 1:  # print EVERY_N mini-batches\n",
    "                print(f'[{epoch + 1}, {i + 1:5d}] loss: {running_loss / EVERY_N:.3f}')\n",
    "                running_loss = 0.0\n",
    "\n",
    "    print('Finished Training')\n",
    "\n",
    "    # Testing the network on the test data\n",
    "    correct, total = 0, 0\n",
    "    with torch.no_grad():\n",
    "        for data in testloader:\n",
    "            images, labels = data\n",
    "            outputs = net(images)\n",
    "            _, predicted = torch.max(outputs.data, 1)\n",
    "            total += labels.size(0)\n",
    "            correct += (predicted == labels).sum().item()\n",
    "\n",
    "    print(f'Accuracy of the network over test images: {100 * correct / total:.3f} %')\n"
   ]
  },
  {
   "cell_type": "code",
   "execution_count": 13,
   "metadata": {},
   "outputs": [
    {
     "name": "stderr",
     "output_type": "stream",
     "text": [
      "  0%|          | 0/5 [00:00<?, ?it/s]"
     ]
    },
    {
     "name": "stdout",
     "output_type": "stream",
     "text": [
      "[1,   200] loss: 1.345\n",
      "[1,   400] loss: 0.666\n",
      "[1,   600] loss: 0.517\n",
      "[1,   800] loss: 0.449\n"
     ]
    },
    {
     "name": "stderr",
     "output_type": "stream",
     "text": [
      " 20%|██        | 1/5 [00:44<02:59, 44.97s/it]"
     ]
    },
    {
     "name": "stdout",
     "output_type": "stream",
     "text": [
      "[2,   200] loss: 0.376\n",
      "[2,   400] loss: 0.366\n",
      "[2,   600] loss: 0.339\n",
      "[2,   800] loss: 0.342\n"
     ]
    },
    {
     "name": "stderr",
     "output_type": "stream",
     "text": [
      " 40%|████      | 2/5 [01:33<02:21, 47.24s/it]"
     ]
    },
    {
     "name": "stdout",
     "output_type": "stream",
     "text": [
      "[3,   200] loss: 0.283\n",
      "[3,   400] loss: 0.292\n",
      "[3,   600] loss: 0.287\n",
      "[3,   800] loss: 0.281\n"
     ]
    },
    {
     "name": "stderr",
     "output_type": "stream",
     "text": [
      " 60%|██████    | 3/5 [02:24<01:38, 49.02s/it]"
     ]
    },
    {
     "name": "stdout",
     "output_type": "stream",
     "text": [
      "[4,   200] loss: 0.249\n",
      "[4,   400] loss: 0.251\n",
      "[4,   600] loss: 0.246\n",
      "[4,   800] loss: 0.255\n"
     ]
    },
    {
     "name": "stderr",
     "output_type": "stream",
     "text": [
      " 80%|████████  | 4/5 [03:15<00:49, 49.54s/it]"
     ]
    },
    {
     "name": "stdout",
     "output_type": "stream",
     "text": [
      "[5,   200] loss: 0.228\n",
      "[5,   400] loss: 0.228\n",
      "[5,   600] loss: 0.240\n",
      "[5,   800] loss: 0.233\n"
     ]
    },
    {
     "name": "stderr",
     "output_type": "stream",
     "text": [
      "100%|██████████| 5/5 [04:05<00:00, 49.12s/it]\n"
     ]
    },
    {
     "name": "stdout",
     "output_type": "stream",
     "text": [
      "Finished Training\n",
      "Accuracy of the network over test images: 93.910 %\n"
     ]
    }
   ],
   "source": [
    "# Neural network architecture\n",
    "class Net(nn.Module):\n",
    "    def __init__(self):\n",
    "        super(Net, self).__init__()\n",
    "        self.fc1 = FFFF(nIn=28*28, nOut=500, depth=8)\n",
    "        self.fc2 = FFFF(nIn=500, nOut=10, depth=8)\n",
    "    def forward(self, x):\n",
    "        x = x.view(-1, 28*28)\n",
    "        y_hat = self.fc2(torch.relu(self.fc1(x)))\n",
    "        # y_hat = self.fc2(self.fc1(x))\n",
    "        return y_hat\n",
    "    def orthogonality_penalty(self):\n",
    "        # Calculate orthogonality loss for each PiSlice layer\n",
    "        loss1 = orthogonality_loss(self.fc1.X) + orthogonality_loss(self.fc1.Y)\n",
    "        loss2 = orthogonality_loss(self.fc2.X) + orthogonality_loss(self.fc2.Y)\n",
    "        return loss1 + loss2\n",
    "\n",
    "train_and_test(Net())\n",
    "# train_and_test(Net(), ortho=True)"
   ]
  },
  {
   "cell_type": "code",
   "execution_count": null,
   "metadata": {},
   "outputs": [],
   "source": []
  }
 ],
 "metadata": {
  "kernelspec": {
   "display_name": ".venv",
   "language": "python",
   "name": "python3"
  },
  "language_info": {
   "codemirror_mode": {
    "name": "ipython",
    "version": 3
   },
   "file_extension": ".py",
   "mimetype": "text/x-python",
   "name": "python",
   "nbconvert_exporter": "python",
   "pygments_lexer": "ipython3",
   "version": "3.11.6"
  }
 },
 "nbformat": 4,
 "nbformat_minor": 2
}
