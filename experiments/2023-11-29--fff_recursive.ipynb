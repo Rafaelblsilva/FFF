{
 "cells": [
  {
   "cell_type": "markdown",
   "metadata": {},
   "source": [
    "# Optimization prototype\n",
    "\n",
    "The problem with FFF:\n",
    "\n",
    "- ~50% of profiled time is spent in lookups\n",
    "- each batch-item takes a different route thru the tree\n",
    "- this forces many lookups: e.g. tree depth 8, nBatch=1024 -> 8k lookups\n",
    "\n",
    "# Proposal\n",
    "- sort our input vectors as we go\n",
    "    - so we end up with all the input vectors that map to 0000 (left left left left), then 0001 0010 etc\n",
    "    - then we can process each of these 16 chunks simul on CUDA\n",
    "\n",
    "We'll try to get a naive Python impl working (using a recursion) to check the logic.\n",
    "\n",
    "TODO: If the same weights are used, we can `assert FFF(x) == FFFF(x)`\n",
    "\n",
    "# Status\n",
    "    - takes 5x longer to train and gives 18% accuracy from 1 epoch (FFF gives 88%)"
   ]
  },
  {
   "cell_type": "code",
   "execution_count": 1,
   "metadata": {},
   "outputs": [],
   "source": [
    "import torch as torch\n",
    "import torch.nn as nn\n",
    "from typing import Optional\n",
    "from math import floor, log2, sqrt\n",
    "import torch.nn.functional as F\n"
   ]
  },
  {
   "cell_type": "code",
   "execution_count": 2,
   "metadata": {},
   "outputs": [],
   "source": [
    "import lovely_tensors as lt\n",
    "lt.monkey_patch()"
   ]
  },
  {
   "cell_type": "code",
   "execution_count": 3,
   "metadata": {},
   "outputs": [],
   "source": [
    "NEPOCH = 1\n",
    "BATCH_SIZE = 64"
   ]
  },
  {
   "cell_type": "code",
   "execution_count": 4,
   "metadata": {},
   "outputs": [],
   "source": [
    "INIT_STRAT = 'hyperspherical-shell'\n",
    "\n",
    "import numpy as np\n",
    "\n",
    "class FFFF(nn.Module):\n",
    "    def __init__(self, nIn: int, nOut: int, depth: Optional[int] = None):\n",
    "        super().__init__()\n",
    "        self.depth = depth or int(floor(log2(nIn)))  # depth is the number of decision boundaries\n",
    "        nNodes = 2 ** self.depth - 1\n",
    "\n",
    "        # each node \"holds\" a basis-vector in INPUT space (.X) and in OUTPUT space (.Y)\n",
    "\n",
    "        if INIT_STRAT == 'gaussian':\n",
    "            # This from orig authors; scaling looks off for self.Y\n",
    "            def create_basis_vectors_of(length, scaling):\n",
    "                return nn.Parameter(torch.empty(nNodes, length).uniform_(-scaling, scaling))\n",
    "            self.X = create_basis_vectors_of(length=nIn, scaling=1/sqrt(nIn))\n",
    "            self.Y = create_basis_vectors_of(length=nOut, scaling=1/sqrt(self.depth + 1))\n",
    "\n",
    "        elif INIT_STRAT == 'hyperspherical-shell':\n",
    "            # Initialize vectors on INPUT/OUTPUT space unit hypersphere\n",
    "            #   (idea: basis vectors should be of unit length).\n",
    "            def create_random_unit_vectors_of(length):\n",
    "                weights = torch.randn(nNodes, length)  # Initialize weights randomly\n",
    "                weights = F.normalize(weights, p=2, dim=-1)  # L2-Normalize along the last dimension\n",
    "                return nn.Parameter(weights)\n",
    "            self.X = create_random_unit_vectors_of(length=nIn)\n",
    "            self.Y = create_random_unit_vectors_of(length=nOut)\n",
    "\n",
    "    # assuming batch_size >> treeSize\n",
    "    def forward(self, x: torch.Tensor):\n",
    "        nBatch, nOut = x.shape[0], self.Y.shape[-1]\n",
    "\n",
    "        all_indices = torch.arange(nBatch, dtype=torch.int)  # our root node will process ALL batch-items\n",
    "        y = torch.zeros((nBatch, nOut), dtype=torch.float)\n",
    "        current_node = 0\n",
    "\n",
    "        def process_node(curr_node, depth, indices):\n",
    "            if depth == self.depth:\n",
    "                return\n",
    "\n",
    "            # λs = curr_node.X DOT self.X[indices]\n",
    "            # Project x onto the current node's INPUT basis vector\n",
    "            #   λ = x DOT currNode.X\n",
    "            # (nBatch, nIn,) (nBatch, nIn) -> (nBatch,)\n",
    "            λ = torch.einsum(\"s i, i -> s\", x[indices], self.X[current_node])  # s: sub-batch\n",
    "\n",
    "            # y[indices] += λ * self.Y[indices]\n",
    "            # Project this contribution into OUTPUT space:\n",
    "            #   y += λ currNode.Y\n",
    "            # (nBatch,) (nBatch, nOut) -> (nBatch, nOut)\n",
    "            y[indices] += torch.einsum(\"i, j -> i j\", λ, self.Y[current_node])\n",
    "\n",
    "            # Split indices based on λs\n",
    "            indices_left = torch.where(λ < 0.0)[0]\n",
    "            indices_right = torch.where(λ >= 0.0)[0]\n",
    "        \n",
    "            process_node(2*curr_node + 1, depth+1, indices_left)\n",
    "            process_node(2*curr_node + 2, depth+1, indices_right)\n",
    "\n",
    "        process_node(curr_node=0, depth=0, indices=all_indices)\n",
    "        return y\n"
   ]
  },
  {
   "cell_type": "code",
   "execution_count": 5,
   "metadata": {},
   "outputs": [
    {
     "data": {
      "text/plain": [
       "array([[0., 0., 0., 0., 0.],\n",
       "       [0., 0., 0., 0., 0.],\n",
       "       [0., 0., 0., 0., 0.],\n",
       "       [0., 0., 0., 0., 0.],\n",
       "       [0., 1., 2., 3., 4.],\n",
       "       [0., 0., 0., 0., 0.],\n",
       "       [0., 2., 4., 6., 8.],\n",
       "       [0., 0., 0., 0., 0.],\n",
       "       [0., 0., 0., 0., 0.],\n",
       "       [0., 0., 0., 0., 0.],\n",
       "       [0., 0., 0., 0., 0.],\n",
       "       [0., 0., 0., 0., 0.]])"
      ]
     },
     "execution_count": 5,
     "metadata": {},
     "output_type": "execute_result"
    }
   ],
   "source": [
    "lambdas = np.arange(3)\n",
    "y = np.arange(5)\n",
    "np.outer(lambdas, y)\n",
    "indices = [2,4,6]\n",
    "yAll = np.zeros((12, 5))\n",
    "\n",
    "yAll[indices] += np.einsum('i, j -> ij', lambdas, y)\n",
    "\n",
    "# yAll[indices] = lambdas * y\n",
    "yAll\n",
    "# y[indices] += torch.einsum(\"i, j -> i j\", λ, self.Y[current_node])\n"
   ]
  },
  {
   "cell_type": "code",
   "execution_count": null,
   "metadata": {},
   "outputs": [],
   "source": []
  },
  {
   "cell_type": "code",
   "execution_count": 6,
   "metadata": {},
   "outputs": [],
   "source": [
    "NIN = 16\n",
    "ffff = FFFF(nIn=NIN, nOut=32, depth=2)"
   ]
  },
  {
   "cell_type": "code",
   "execution_count": 7,
   "metadata": {},
   "outputs": [
    {
     "data": {
      "text/plain": [
       "tensor[10, 32] n=320 (1.2Kb) x∈[-0.797, 0.698] μ=-0.004 σ=0.269 grad IndexPutBackward0"
      ]
     },
     "execution_count": 7,
     "metadata": {},
     "output_type": "execute_result"
    }
   ],
   "source": [
    "NBATCH = 10\n",
    "x = torch.rand((NBATCH, NIN))\n",
    "ffff(x)"
   ]
  },
  {
   "cell_type": "markdown",
   "metadata": {},
   "source": [
    "# Load MNIST"
   ]
  },
  {
   "cell_type": "code",
   "execution_count": 8,
   "metadata": {},
   "outputs": [],
   "source": [
    "import torchvision\n",
    "import torchvision.transforms as transforms\n",
    "\n",
    "# Transformations\n",
    "transform = transforms.Compose([transforms.ToTensor(), transforms.Normalize((0.5,), (0.5,))])\n",
    "\n",
    "# MNIST dataset\n",
    "trainset = torchvision.datasets.MNIST(root='./data', train=True, download=True, transform=transform)\n",
    "testset = torchvision.datasets.MNIST(root='./data', train=False, download=True, transform=transform)\n",
    "\n",
    "# Data loaders\n",
    "trainloader = torch.utils.data.DataLoader(trainset, batch_size=BATCH_SIZE, shuffle=True)\n",
    "testloader = torch.utils.data.DataLoader(testset, batch_size=len(testset), shuffle=False)\n"
   ]
  },
  {
   "cell_type": "markdown",
   "metadata": {},
   "source": [
    "# Test harness"
   ]
  },
  {
   "cell_type": "code",
   "execution_count": 9,
   "metadata": {},
   "outputs": [],
   "source": [
    "from torch import nn, functional as F\n",
    "import math\n",
    "import torch\n",
    "import torch.nn as nn\n",
    "import torch.nn.functional as F\n",
    "import torch.optim as optim\n",
    "from tqdm import tqdm"
   ]
  },
  {
   "cell_type": "code",
   "execution_count": 10,
   "metadata": {},
   "outputs": [],
   "source": [
    "# We'll use this later\n",
    "def orthogonality_loss(basis_vectors):\n",
    "    # Compute pairwise dot products\n",
    "    dot_products = torch.matmul(basis_vectors, basis_vectors.T)\n",
    "    \n",
    "    # Zero out diagonal elements (self dot products)\n",
    "    eye = torch.eye(dot_products.size(0)).to(dot_products.device)\n",
    "    dot_products = dot_products * (1 - eye)\n",
    "    \n",
    "    # Sum of squares of off-diagonal elements (which should be close to zero)\n",
    "    loss = (dot_products ** 2).sum()\n",
    "    return loss"
   ]
  },
  {
   "cell_type": "code",
   "execution_count": 11,
   "metadata": {},
   "outputs": [],
   "source": [
    "EVERY_N = 200\n",
    "\n",
    "def train_and_test(net, ortho=False):\n",
    "    # Loss function and optimizer\n",
    "    criterion = nn.CrossEntropyLoss()\n",
    "    optimizer = optim.AdamW(net.parameters(), lr=0.001) #, momentum=0.9)\n",
    "\n",
    "    # Training the network\n",
    "    for epoch in tqdm(range(NEPOCH)):  # loop over the dataset multiple times\n",
    "        running_loss = 0.0\n",
    "        for i, data in enumerate(trainloader, 0):\n",
    "            inputs, labels = data\n",
    "\n",
    "            optimizer.zero_grad()\n",
    "            outputs = net(inputs)\n",
    "            loss = criterion(outputs, labels)\n",
    "            if ortho:  # hasattr(net, 'orthogonality_penalty'):\n",
    "                loss += .001 * net.orthogonality_penalty()\n",
    "            loss.backward()\n",
    "            optimizer.step()\n",
    "\n",
    "            running_loss += loss.item()\n",
    "            if i % EVERY_N == EVERY_N - 1:  # print EVERY_N mini-batches\n",
    "                print(f'[{epoch + 1}, {i + 1:5d}] loss: {running_loss / EVERY_N:.3f}')\n",
    "                running_loss = 0.0\n",
    "\n",
    "    print('Finished Training')\n",
    "\n",
    "    # Testing the network on the test data\n",
    "    correct, total = 0, 0\n",
    "    with torch.no_grad():\n",
    "        for data in testloader:\n",
    "            images, labels = data\n",
    "            outputs = net(images)\n",
    "            _, predicted = torch.max(outputs.data, 1)\n",
    "            total += labels.size(0)\n",
    "            correct += (predicted == labels).sum().item()\n",
    "\n",
    "    print(f'Accuracy of the network over test images: {100 * correct / total:.3f} %')\n"
   ]
  },
  {
   "cell_type": "code",
   "execution_count": 12,
   "metadata": {},
   "outputs": [
    {
     "name": "stderr",
     "output_type": "stream",
     "text": [
      "  0%|          | 0/1 [00:00<?, ?it/s]"
     ]
    },
    {
     "name": "stdout",
     "output_type": "stream",
     "text": [
      "[1,   200] loss: 2.305\n",
      "[1,   400] loss: 2.253\n",
      "[1,   600] loss: 2.168\n",
      "[1,   800] loss: 2.137\n"
     ]
    },
    {
     "name": "stderr",
     "output_type": "stream",
     "text": [
      "100%|██████████| 1/1 [01:49<00:00, 109.47s/it]\n"
     ]
    },
    {
     "name": "stdout",
     "output_type": "stream",
     "text": [
      "Finished Training\n",
      "Accuracy of the network over test images: 18.380 %\n"
     ]
    }
   ],
   "source": [
    "# Neural network architecture\n",
    "class Net(nn.Module):\n",
    "    def __init__(self):\n",
    "        super(Net, self).__init__()\n",
    "        self.fc1 = FFFF(nIn=28*28, nOut=500, depth=8)\n",
    "        self.fc2 = FFFF(nIn=500, nOut=10, depth=8)\n",
    "    def forward(self, x):\n",
    "        x = x.view(-1, 28*28)\n",
    "        y_hat = self.fc2(torch.relu(self.fc1(x)))\n",
    "        # y_hat = self.fc2(self.fc1(x))\n",
    "        return y_hat\n",
    "    def orthogonality_penalty(self):\n",
    "        # Calculate orthogonality loss for each PiSlice layer\n",
    "        loss1 = orthogonality_loss(self.fc1.X) + orthogonality_loss(self.fc1.Y)\n",
    "        loss2 = orthogonality_loss(self.fc2.X) + orthogonality_loss(self.fc2.Y)\n",
    "        return loss1 + loss2\n",
    "\n",
    "train_and_test(Net())\n",
    "# train_and_test(Net(), ortho=True)"
   ]
  },
  {
   "cell_type": "code",
   "execution_count": null,
   "metadata": {},
   "outputs": [],
   "source": []
  }
 ],
 "metadata": {
  "kernelspec": {
   "display_name": ".venv",
   "language": "python",
   "name": "python3"
  },
  "language_info": {
   "codemirror_mode": {
    "name": "ipython",
    "version": 3
   },
   "file_extension": ".py",
   "mimetype": "text/x-python",
   "name": "python",
   "nbconvert_exporter": "python",
   "pygments_lexer": "ipython3",
   "version": "3.11.6"
  }
 },
 "nbformat": 4,
 "nbformat_minor": 2
}
