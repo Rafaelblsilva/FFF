{
 "cells": [
  {
   "cell_type": "markdown",
   "metadata": {},
   "source": [
    "# Optimization prototype\n",
    "\n",
    "The problem with FFF:\n",
    "\n",
    "- ~50% of profiled time is spent in lookups\n",
    "- each batch-item takes a different route thru the tree\n",
    "- this forces many lookups: e.g. tree depth 8, nBatch=1024 -> 8k lookups\n",
    "\n",
    "# Proposal\n",
    "- sort our input vectors as we go\n",
    "    - so we end up with all the input vectors that map to 0000 (left left left left), then 0001 0010 etc\n",
    "    - then we can process each of these 16 chunks simul on CUDA\n",
    "\n",
    "We'll try to get a naive Python impl working (using a recursion) to check the logic.\n",
    "\n",
    "TODO: If the same weights are used, we can `assert FFF(x) == FFFF(x)`\n",
    "\n",
    "# Status\n",
    "- takes 5x longer to train and gives 66% accuracy from 1 epoch (FFF gives 88%)\n",
    "\n",
    "Nevertheless, the idea looks solid"
   ]
  },
  {
   "cell_type": "code",
   "execution_count": 1,
   "metadata": {},
   "outputs": [],
   "source": [
    "from typing import Optional\n",
    "from math import floor, log2, sqrt\n",
    "import random\n",
    "\n",
    "import numpy as np\n",
    "\n",
    "import torch\n",
    "import torch.nn as nn\n",
    "import torch.nn.functional as F\n"
   ]
  },
  {
   "cell_type": "code",
   "execution_count": 2,
   "metadata": {},
   "outputs": [],
   "source": [
    "import lovely_tensors as lt\n",
    "lt.monkey_patch()"
   ]
  },
  {
   "cell_type": "code",
   "execution_count": 3,
   "metadata": {},
   "outputs": [],
   "source": [
    "NEPOCH = 10\n",
    "BATCH_SIZE = 64\n",
    "EVERY_N = 200\n",
    "INIT_STRAT = 'hyperspherical-shell'\n"
   ]
  },
  {
   "cell_type": "code",
   "execution_count": 4,
   "metadata": {},
   "outputs": [],
   "source": [
    "\n",
    "def set_random_seed(random_seed=42):\n",
    "    # PyTorch\n",
    "    torch.manual_seed(random_seed)\n",
    "    if torch.cuda.is_available():\n",
    "        torch.cuda.manual_seed_all(random_seed)\n",
    "\n",
    "    # Numpy\n",
    "    np.random.seed(random_seed)\n",
    "\n",
    "    # Python's `random` module\n",
    "    random.seed(random_seed)\n",
    "\n",
    "    # If you are using cudnn, set this to True to make computation deterministic\n",
    "    # Note: This might reduce performance\n",
    "    torch.backends.cudnn.deterministic = True\n",
    "    torch.backends.cudnn.benchmark = False\n"
   ]
  },
  {
   "cell_type": "code",
   "execution_count": 5,
   "metadata": {},
   "outputs": [],
   "source": [
    "class FFF(nn.Module):\n",
    "    def __init__(self, nIn: int, nOut: int, depth: Optional[int] = None):\n",
    "        super().__init__()\n",
    "        self.depth = depth or int(floor(log2(nIn)))  # depth is the number of decision boundaries\n",
    "        nNodes = 2 ** self.depth - 1\n",
    "\n",
    "        # each node \"holds\" a basis-vector in INPUT space (.X) and in OUTPUT space (.Y)\n",
    "\n",
    "        if INIT_STRAT == 'gaussian':\n",
    "            # This from orig authors; scaling looks off for self.Y\n",
    "            def create_basis_vectors_of(length, scaling):\n",
    "                return nn.Parameter(torch.empty(nNodes, length).uniform_(-scaling, scaling))\n",
    "            self.X = create_basis_vectors_of(length=nIn, scaling=1/sqrt(nIn))\n",
    "            self.Y = create_basis_vectors_of(length=nOut, scaling=1/sqrt(self.depth + 1))\n",
    "\n",
    "        elif INIT_STRAT == 'hyperspherical-shell':\n",
    "            # Initialize vectors on INPUT/OUTPUT space unit hypersphere\n",
    "            #   (idea: basis vectors should be of unit length).\n",
    "            def create_random_unit_vectors_of(length):\n",
    "                weights = torch.randn(nNodes, length)  # Initialize weights randomly\n",
    "                weights = F.normalize(weights, p=2, dim=-1)  # L2-Normalize along the last dimension\n",
    "                return nn.Parameter(weights)\n",
    "            self.X = create_random_unit_vectors_of(length=nIn)\n",
    "            self.Y = create_random_unit_vectors_of(length=nOut)\n",
    "\n",
    "    def forward(self, x: torch.Tensor):\n",
    "        nBatch, nIn, nOut = x.shape[0], self.X.shape[-1], self.Y.shape[-1]\n",
    "\n",
    "        current_node = torch.zeros(nBatch, dtype=torch.long, device=x.device)\n",
    "\n",
    "        # Walk the tree, assembling y piecemeal\n",
    "        y = torch.zeros((nBatch, nOut), dtype=torch.float, device=x.device)\n",
    "        for _ in range(self.depth):\n",
    "            # Project x onto the current node's INPUT basis vector\n",
    "            #   λ = x DOT currNode.X\n",
    "            # (nBatch, nIn,) (nBatch, nIn) -> (nBatch,)\n",
    "            λ = torch.einsum(\"b i, b i -> b\", x, self.X[current_node])\n",
    "\n",
    "            # Project this contribution into OUTPUT space:\n",
    "            #   y += λ currNode.Y\n",
    "            # (nBatch,) (nBatch, nOut) -> (nBatch, nOut)\n",
    "            y += torch.einsum(\"b, b j -> b j\", λ, self.Y[current_node])\n",
    "\n",
    "            # We'll branch right if x is \"sunny-side\" of the\n",
    "            # hyperplane defined by node.x (else left)\n",
    "            branch_choice = (λ > 0).long()\n",
    "\n",
    "            # figure out index of node in next layer to visit\n",
    "            current_node = (current_node * 2) + 1 + branch_choice\n",
    "\n",
    "        return y\n",
    "\n",
    "    def __repr__(self):\n",
    "        return f\"FFF({self.X.shape[-1]}, {self.Y.shape[-1]}, depth={self.depth})\"\n"
   ]
  },
  {
   "cell_type": "code",
   "execution_count": 6,
   "metadata": {},
   "outputs": [],
   "source": [
    "class FFFF(nn.Module):\n",
    "    def __init__(self, nIn: int, nOut: int, depth: Optional[int] = None):\n",
    "        super().__init__()\n",
    "        self.depth = depth or int(floor(log2(nIn)))  # depth is the number of decision boundaries\n",
    "        nNodes = 2 ** self.depth - 1\n",
    "\n",
    "        # each node \"holds\" a basis-vector in INPUT space (.X) and in OUTPUT space (.Y)\n",
    "\n",
    "        if INIT_STRAT == 'gaussian':\n",
    "            # This from orig authors; scaling looks off for self.Y\n",
    "            def create_basis_vectors_of(length, scaling):\n",
    "                return nn.Parameter(torch.empty(nNodes, length).uniform_(-scaling, scaling))\n",
    "            self.X = create_basis_vectors_of(length=nIn, scaling=1/sqrt(nIn))\n",
    "            self.Y = create_basis_vectors_of(length=nOut, scaling=1/sqrt(self.depth + 1))\n",
    "\n",
    "        elif INIT_STRAT == 'hyperspherical-shell':\n",
    "            # Initialize vectors on INPUT/OUTPUT space unit hypersphere\n",
    "            #   (idea: basis vectors should be of unit length).\n",
    "            def create_random_unit_vectors_of(length):\n",
    "                weights = torch.randn(nNodes, length)  # Initialize weights randomly\n",
    "                weights = F.normalize(weights, p=2, dim=-1)  # L2-Normalize along the last dimension\n",
    "                return nn.Parameter(weights)\n",
    "            self.X = create_random_unit_vectors_of(length=nIn)\n",
    "            self.Y = create_random_unit_vectors_of(length=nOut)\n",
    "\n",
    "    # assuming batch_size >> treeSize\n",
    "    def forward(self, x: torch.Tensor):\n",
    "        nBatch, nOut = x.shape[0], self.Y.shape[-1]\n",
    "\n",
    "        y = torch.zeros((nBatch, nOut), dtype=torch.float)\n",
    "\n",
    "        def process_node(curr_node, depth, indices):\n",
    "            if depth == self.depth or len(indices) == 0:\n",
    "                return\n",
    "\n",
    "            # Project x[indices] onto the current node's INPUT basis vector\n",
    "            #   λ = x[indices] DOT currNode.X\n",
    "            λ = torch.einsum(\"ni, i -> n\", x[indices], self.X[curr_node])  # (nInd, nIn), nIn -> nInd\n",
    "\n",
    "            # Update y-values for our indices\n",
    "            #   y[indices] += λ * self.Y[indices]\n",
    "            y[indices] += torch.einsum(\"n, j -> nj\", λ, self.Y[curr_node])  # nInd, nOut -> nInd, nOut\n",
    "\n",
    "            # Split indices based on λ >= 0\n",
    "            indices_left = torch.where(λ < 0.0)[0]\n",
    "            indices_right = torch.where(λ >= 0.0)[0]\n",
    "\n",
    "            process_node(2*curr_node + 1, depth+1, indices_left)\n",
    "            process_node(2*curr_node + 2, depth+1, indices_right)\n",
    "\n",
    "        # our root node will process ALL batch-items\n",
    "        all_indices = torch.arange(nBatch, dtype=torch.int)\n",
    "\n",
    "        process_node(curr_node=0, depth=0, indices=all_indices)\n",
    "        return y\n"
   ]
  },
  {
   "cell_type": "code",
   "execution_count": 7,
   "metadata": {},
   "outputs": [
    {
     "name": "stdout",
     "output_type": "stream",
     "text": [
      "nBatch    nIn   nOut   depth\n",
      "    99      8      8   2      ✅ 5.882773166376865e-07\n",
      "   100      8      8   2      ❌ 5.738617687711667e-07\n",
      "     3    126     64   3      ✅ 0.0\n",
      "     3    127     64   3      ❌ 0.9158244729042053\n",
      "     3    126      1   3      ✅ 0.0\n",
      "     3    127      1   3      ❌ 1.2935090065002441\n",
      "     1  10000  10000   8      ✅ 0.0\n"
     ]
    }
   ],
   "source": [
    "def test_forward_pass(NBATCH, NIN, NOUT, DEPTH):\n",
    "    set_random_seed()\n",
    "    x1 = torch.rand((NBATCH, NIN))\n",
    "    fff = FFF(NIN, NOUT, DEPTH)\n",
    "    y1 = fff(x1)\n",
    "\n",
    "    set_random_seed()\n",
    "    x2 = torch.rand((NBATCH, NIN))\n",
    "    ffff = FFFF(NIN, NOUT, DEPTH)\n",
    "    y2 = ffff(x2)\n",
    "\n",
    "    assert torch.allclose(x1, x2)\n",
    "\n",
    "    # print('diff:', float(torch.norm(y1)), float(torch.norm(y2)), float(torch.norm(y1 - y2)))\n",
    "\n",
    "    print(f'  {NBATCH:4d} {NIN:6d} {NOUT:6d} {DEPTH:3d}     ', '✅' if torch.allclose(y1, y2) else '❌', float(torch.norm(y1 - y2)))\n",
    "\n",
    "print('nBatch    nIn   nOut   depth')   \n",
    "test_forward_pass(99, 8, 8, 2)\n",
    "test_forward_pass(100, 8, 8, 2)\n",
    "\n",
    "test_forward_pass(3, 126, 64, 3)\n",
    "test_forward_pass(3, 127, 64, 3)\n",
    "\n",
    "test_forward_pass(3, 126, 1, 3)\n",
    "test_forward_pass(3, 127, 1, 3)\n",
    "\n",
    "test_forward_pass(1, 10000, 10000, 8)\n"
   ]
  },
  {
   "cell_type": "code",
   "execution_count": 8,
   "metadata": {},
   "outputs": [
    {
     "ename": "AssertionError",
     "evalue": "",
     "output_type": "error",
     "traceback": [
      "\u001b[0;31m---------------------------------------------------------------------------\u001b[0m",
      "\u001b[0;31mAssertionError\u001b[0m                            Traceback (most recent call last)",
      "\u001b[1;32m/Users/pi/code/m2/fff/FFF/experiments/2023-11-29--fff_recursive.ipynb Cell 9\u001b[0m line \u001b[0;36m2\n\u001b[1;32m     <a href='vscode-notebook-cell:/Users/pi/code/m2/fff/FFF/experiments/2023-11-29--fff_recursive.ipynb#X12sZmlsZQ%3D%3D?line=16'>17</a>\u001b[0m y1 \u001b[39m=\u001b[39m fff(x)\n\u001b[1;32m     <a href='vscode-notebook-cell:/Users/pi/code/m2/fff/FFF/experiments/2023-11-29--fff_recursive.ipynb#X12sZmlsZQ%3D%3D?line=17'>18</a>\u001b[0m y2 \u001b[39m=\u001b[39m ffff(x)\n\u001b[0;32m---> <a href='vscode-notebook-cell:/Users/pi/code/m2/fff/FFF/experiments/2023-11-29--fff_recursive.ipynb#X12sZmlsZQ%3D%3D?line=19'>20</a>\u001b[0m \u001b[39massert\u001b[39;00m torch\u001b[39m.\u001b[39mallclose(y1, y2)\n\u001b[1;32m     <a href='vscode-notebook-cell:/Users/pi/code/m2/fff/FFF/experiments/2023-11-29--fff_recursive.ipynb#X12sZmlsZQ%3D%3D?line=22'>23</a>\u001b[0m \u001b[39m# Create a dummy target\u001b[39;00m\n\u001b[1;32m     <a href='vscode-notebook-cell:/Users/pi/code/m2/fff/FFF/experiments/2023-11-29--fff_recursive.ipynb#X12sZmlsZQ%3D%3D?line=23'>24</a>\u001b[0m target \u001b[39m=\u001b[39m torch\u001b[39m.\u001b[39mrand_like(y1)\n",
      "\u001b[0;31mAssertionError\u001b[0m: "
     ]
    }
   ],
   "source": [
    "# Assuming FFF and FFFF are defined and have the same parameters for a fair comparison\n",
    "\n",
    "def set_random_seed(seed=42):\n",
    "    torch.manual_seed(seed)\n",
    "\n",
    "NBATCH = 10\n",
    "NIN, NOUT = 512, 1024\n",
    "\n",
    "# Set random seed and initialize models\n",
    "set_random_seed()\n",
    "fff = FFF(NIN, NOUT, depth=4)\n",
    "set_random_seed()\n",
    "ffff = FFFF(NIN, NOUT, depth=4)\n",
    "\n",
    "# Forward pass\n",
    "x = torch.rand((NBATCH, NIN))\n",
    "y1 = fff(x)\n",
    "y2 = ffff(x)\n",
    "\n",
    "assert torch.allclose(y1, y2)\n",
    "\n",
    "\n",
    "# Create a dummy target\n",
    "target = torch.rand_like(y1)\n",
    "\n",
    "# Compute loss\n",
    "loss1 = F.mse_loss(y1, target)\n",
    "loss2 = F.mse_loss(y2, target)\n",
    "\n",
    "# Backward pass\n",
    "loss1.backward()\n",
    "loss2.backward()\n",
    "\n",
    "# Check gradients\n",
    "for (param1, param2) in zip(fff.parameters(), ffff.parameters()):\n",
    "    assert torch.allclose(param1.grad, param2.grad, atol=1e-6), \"Gradients do not match\"\n",
    "\n",
    "print(\"Backward pass test passed!\")\n"
   ]
  },
  {
   "cell_type": "markdown",
   "metadata": {},
   "source": [
    "# Load MNIST"
   ]
  },
  {
   "cell_type": "code",
   "execution_count": 9,
   "metadata": {},
   "outputs": [],
   "source": [
    "import torchvision\n",
    "import torchvision.transforms as transforms\n",
    "\n",
    "# Transformations\n",
    "transform = transforms.Compose([transforms.ToTensor(), transforms.Normalize((0.5,), (0.5,))])\n",
    "\n",
    "# MNIST dataset\n",
    "trainset = torchvision.datasets.MNIST(root='./data', train=True, download=True, transform=transform)\n",
    "testset = torchvision.datasets.MNIST(root='./data', train=False, download=True, transform=transform)\n",
    "\n",
    "# Data loaders\n",
    "trainloader = torch.utils.data.DataLoader(trainset, batch_size=BATCH_SIZE, shuffle=True)\n",
    "testloader = torch.utils.data.DataLoader(testset, batch_size=len(testset), shuffle=False)\n"
   ]
  },
  {
   "cell_type": "markdown",
   "metadata": {},
   "source": [
    "# Test harness"
   ]
  },
  {
   "cell_type": "code",
   "execution_count": 10,
   "metadata": {},
   "outputs": [],
   "source": [
    "from torch import nn, functional as F\n",
    "import math\n",
    "import torch\n",
    "import torch.nn as nn\n",
    "import torch.nn.functional as F\n",
    "import torch.optim as optim\n",
    "from tqdm import tqdm"
   ]
  },
  {
   "cell_type": "code",
   "execution_count": 11,
   "metadata": {},
   "outputs": [],
   "source": [
    "# We'll use this later\n",
    "def orthogonality_loss(basis_vectors):\n",
    "    # Compute pairwise dot products\n",
    "    dot_products = torch.matmul(basis_vectors, basis_vectors.T)\n",
    "    \n",
    "    # Zero out diagonal elements (self dot products)\n",
    "    eye = torch.eye(dot_products.size(0)).to(dot_products.device)\n",
    "    dot_products = dot_products * (1 - eye)\n",
    "    \n",
    "    # Sum of squares of off-diagonal elements (which should be close to zero)\n",
    "    loss = (dot_products ** 2).sum()\n",
    "    return loss"
   ]
  },
  {
   "cell_type": "code",
   "execution_count": 12,
   "metadata": {},
   "outputs": [],
   "source": [
    "def train_and_test(net, ortho=False):\n",
    "    # Loss function and optimizer\n",
    "    criterion = nn.CrossEntropyLoss()\n",
    "    optimizer = optim.AdamW(net.parameters(), lr=0.001) #, momentum=0.9)\n",
    "\n",
    "    # Training the network\n",
    "    for epoch in tqdm(range(NEPOCH)):  # loop over the dataset multiple times\n",
    "        running_loss = 0.0\n",
    "        for i, data in enumerate(trainloader, 0):\n",
    "            inputs, labels = data\n",
    "\n",
    "            optimizer.zero_grad()\n",
    "            outputs = net(inputs)\n",
    "            loss = criterion(outputs, labels)\n",
    "            if ortho:  # hasattr(net, 'orthogonality_penalty'):\n",
    "                loss += .001 * net.orthogonality_penalty()\n",
    "            loss.backward()\n",
    "            optimizer.step()\n",
    "\n",
    "            running_loss += loss.item()\n",
    "            if i % EVERY_N == EVERY_N - 1:  # print EVERY_N mini-batches\n",
    "                print(f'[{epoch + 1}, {i + 1:5d}] loss: {running_loss / EVERY_N:.3f}')\n",
    "                running_loss = 0.0\n",
    "\n",
    "    print('Finished Training')\n",
    "\n",
    "    # Testing the network on the test data\n",
    "    correct, total = 0, 0\n",
    "    with torch.no_grad():\n",
    "        for data in testloader:\n",
    "            images, labels = data\n",
    "            outputs = net(images)\n",
    "            _, predicted = torch.max(outputs.data, 1)\n",
    "            total += labels.size(0)\n",
    "            correct += (predicted == labels).sum().item()\n",
    "\n",
    "    print(f'Accuracy of the network over test images: {100 * correct / total:.3f} %')\n"
   ]
  },
  {
   "cell_type": "code",
   "execution_count": 13,
   "metadata": {},
   "outputs": [
    {
     "name": "stderr",
     "output_type": "stream",
     "text": [
      "  0%|          | 0/10 [00:00<?, ?it/s]"
     ]
    },
    {
     "name": "stdout",
     "output_type": "stream",
     "text": [
      "[1,   200] loss: 1.773\n",
      "[1,   400] loss: 1.276\n",
      "[1,   600] loss: 1.135\n",
      "[1,   800] loss: 1.037\n"
     ]
    },
    {
     "name": "stderr",
     "output_type": "stream",
     "text": [
      " 10%|█         | 1/10 [00:47<07:06, 47.37s/it]"
     ]
    },
    {
     "name": "stdout",
     "output_type": "stream",
     "text": [
      "[2,   200] loss: 0.958\n",
      "[2,   400] loss: 0.931\n",
      "[2,   600] loss: 0.915\n",
      "[2,   800] loss: 0.893\n"
     ]
    },
    {
     "name": "stderr",
     "output_type": "stream",
     "text": [
      " 20%|██        | 2/10 [01:38<06:36, 49.56s/it]"
     ]
    },
    {
     "name": "stdout",
     "output_type": "stream",
     "text": [
      "[3,   200] loss: 0.866\n",
      "[3,   400] loss: 0.871\n",
      "[3,   600] loss: 0.829\n",
      "[3,   800] loss: 0.863\n"
     ]
    },
    {
     "name": "stderr",
     "output_type": "stream",
     "text": [
      " 30%|███       | 3/10 [02:30<05:54, 50.64s/it]"
     ]
    },
    {
     "name": "stdout",
     "output_type": "stream",
     "text": [
      "[4,   200] loss: 0.801\n",
      "[4,   400] loss: 0.824\n",
      "[4,   600] loss: 0.818\n",
      "[4,   800] loss: 0.788\n"
     ]
    },
    {
     "name": "stderr",
     "output_type": "stream",
     "text": [
      " 40%|████      | 4/10 [03:23<05:09, 51.55s/it]"
     ]
    },
    {
     "name": "stdout",
     "output_type": "stream",
     "text": [
      "[5,   200] loss: 0.781\n",
      "[5,   400] loss: 0.807\n",
      "[5,   600] loss: 0.808\n",
      "[5,   800] loss: 0.792\n"
     ]
    },
    {
     "name": "stderr",
     "output_type": "stream",
     "text": [
      " 50%|█████     | 5/10 [04:15<04:18, 51.61s/it]"
     ]
    },
    {
     "name": "stdout",
     "output_type": "stream",
     "text": [
      "[6,   200] loss: 0.778\n",
      "[6,   400] loss: 0.791\n",
      "[6,   600] loss: 0.787\n",
      "[6,   800] loss: 0.790\n"
     ]
    },
    {
     "name": "stderr",
     "output_type": "stream",
     "text": [
      " 60%|██████    | 6/10 [05:07<03:26, 51.73s/it]"
     ]
    },
    {
     "name": "stdout",
     "output_type": "stream",
     "text": [
      "[7,   200] loss: 0.794\n",
      "[7,   400] loss: 0.769\n",
      "[7,   600] loss: 0.733\n",
      "[7,   800] loss: 0.772\n"
     ]
    },
    {
     "name": "stderr",
     "output_type": "stream",
     "text": [
      " 70%|███████   | 7/10 [05:59<02:35, 51.83s/it]"
     ]
    },
    {
     "name": "stdout",
     "output_type": "stream",
     "text": [
      "[8,   200] loss: 0.741\n",
      "[8,   400] loss: 0.744\n",
      "[8,   600] loss: 0.749\n",
      "[8,   800] loss: 0.752\n"
     ]
    },
    {
     "name": "stderr",
     "output_type": "stream",
     "text": [
      " 80%|████████  | 8/10 [06:52<01:44, 52.30s/it]"
     ]
    },
    {
     "name": "stdout",
     "output_type": "stream",
     "text": [
      "[9,   200] loss: 0.740\n",
      "[9,   400] loss: 0.738\n",
      "[9,   600] loss: 0.737\n",
      "[9,   800] loss: 0.754\n"
     ]
    },
    {
     "name": "stderr",
     "output_type": "stream",
     "text": [
      " 90%|█████████ | 9/10 [07:45<00:52, 52.69s/it]"
     ]
    },
    {
     "name": "stdout",
     "output_type": "stream",
     "text": [
      "[10,   200] loss: 0.719\n",
      "[10,   400] loss: 0.727\n",
      "[10,   600] loss: 0.729\n",
      "[10,   800] loss: 0.730\n"
     ]
    },
    {
     "name": "stderr",
     "output_type": "stream",
     "text": [
      "100%|██████████| 10/10 [08:40<00:00, 52.10s/it]\n"
     ]
    },
    {
     "name": "stdout",
     "output_type": "stream",
     "text": [
      "Finished Training\n",
      "Accuracy of the network over test images: 75.460 %\n"
     ]
    }
   ],
   "source": [
    "# Neural network architecture\n",
    "class Net(nn.Module):\n",
    "    def __init__(self):\n",
    "        super(Net, self).__init__()\n",
    "        self.fc1 = FFFF(nIn=28*28, nOut=500, depth=8)\n",
    "        self.fc2 = FFFF(nIn=500, nOut=10, depth=8)\n",
    "    def forward(self, x):\n",
    "        x = x.view(-1, 28*28)\n",
    "        y_hat = self.fc2(torch.relu(self.fc1(x)))\n",
    "        # y_hat = self.fc2(self.fc1(x))\n",
    "        return y_hat\n",
    "    def orthogonality_penalty(self):\n",
    "        # Calculate orthogonality loss for each PiSlice layer\n",
    "        loss1 = orthogonality_loss(self.fc1.X) + orthogonality_loss(self.fc1.Y)\n",
    "        loss2 = orthogonality_loss(self.fc2.X) + orthogonality_loss(self.fc2.Y)\n",
    "        return loss1 + loss2\n",
    "\n",
    "train_and_test(Net())\n",
    "# train_and_test(Net(), ortho=True)"
   ]
  },
  {
   "cell_type": "code",
   "execution_count": null,
   "metadata": {},
   "outputs": [],
   "source": []
  }
 ],
 "metadata": {
  "kernelspec": {
   "display_name": ".venv",
   "language": "python",
   "name": "python3"
  },
  "language_info": {
   "codemirror_mode": {
    "name": "ipython",
    "version": 3
   },
   "file_extension": ".py",
   "mimetype": "text/x-python",
   "name": "python",
   "nbconvert_exporter": "python",
   "pygments_lexer": "ipython3",
   "version": "3.11.6"
  }
 },
 "nbformat": 4,
 "nbformat_minor": 2
}
