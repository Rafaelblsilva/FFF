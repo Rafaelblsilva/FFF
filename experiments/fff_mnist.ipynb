{
 "cells": [
  {
   "cell_type": "markdown",
   "metadata": {},
   "source": [
    "# First impl of FFF (obsolete)\n",
    "\n",
    "Compares FFF against PyTorch's `nn.Linear`\n",
    "\n",
    "Obsolete, keeping (for now) for posterity.\n",
    "\n",
    "Our FFF code has improved now.\n",
    "\n",
    "Look in `notebooks/` at the Benchmarks notebooks for clearer code."
   ]
  },
  {
   "cell_type": "code",
   "execution_count": 1,
   "metadata": {},
   "outputs": [],
   "source": [
    "! pip install -q torch torchvision tqdm"
   ]
  },
  {
   "cell_type": "code",
   "execution_count": 2,
   "metadata": {},
   "outputs": [],
   "source": [
    "NEPOCH = 5"
   ]
  },
  {
   "cell_type": "code",
   "execution_count": 3,
   "metadata": {},
   "outputs": [],
   "source": [
    "from torch import nn, functional as F\n",
    "import math\n",
    "import torch\n",
    "import torch.nn as nn\n",
    "import torch.nn.functional as F\n",
    "import torch.optim as optim\n",
    "from tqdm import tqdm"
   ]
  },
  {
   "cell_type": "code",
   "execution_count": 4,
   "metadata": {},
   "outputs": [
    {
     "name": "stderr",
     "output_type": "stream",
     "text": [
      "/Users/pi/code/m2/fff/.venv/lib/python3.11/site-packages/tqdm/auto.py:21: TqdmWarning: IProgress not found. Please update jupyter and ipywidgets. See https://ipywidgets.readthedocs.io/en/stable/user_install.html\n",
      "  from .autonotebook import tqdm as notebook_tqdm\n"
     ]
    }
   ],
   "source": [
    "import torchvision\n",
    "import torchvision.transforms as transforms\n",
    "\n",
    "# Transformations\n",
    "transform = transforms.Compose([transforms.ToTensor(), transforms.Normalize((0.5,), (0.5,))])\n",
    "\n",
    "# MNIST dataset\n",
    "trainset = torchvision.datasets.MNIST(root='./data', train=True, download=True, transform=transform)\n",
    "testset = torchvision.datasets.MNIST(root='./data', train=False, download=True, transform=transform)\n",
    "\n",
    "# Data loaders\n",
    "trainloader = torch.utils.data.DataLoader(trainset, batch_size=64, shuffle=True)\n",
    "testloader = torch.utils.data.DataLoader(testset, batch_size=64, shuffle=False)\n"
   ]
  },
  {
   "cell_type": "code",
   "execution_count": 5,
   "metadata": {},
   "outputs": [
    {
     "name": "stderr",
     "output_type": "stream",
     "text": [
      "100%|██████████| 5/5 [00:15<00:00,  3.07s/it]\n"
     ]
    },
    {
     "name": "stdout",
     "output_type": "stream",
     "text": [
      "Finished Training\n",
      "Accuracy of the network on the 10000 test images: 97 %\n"
     ]
    }
   ],
   "source": [
    "# Neural network architecture\n",
    "class Net(nn.Module):\n",
    "    def __init__(self):\n",
    "        super(Net, self).__init__()\n",
    "        self.fc1 = nn.Linear(28*28, 500)\n",
    "        self.fc2 = nn.Linear(500, 10)\n",
    "\n",
    "    def forward(self, x):\n",
    "        x = x.view(-1, 28*28)\n",
    "        x = F.relu(self.fc1(x))\n",
    "        x = self.fc2(x)\n",
    "        return x\n",
    "\n",
    "net = Net()\n",
    "\n",
    "# Loss function and optimizer\n",
    "criterion = nn.CrossEntropyLoss()\n",
    "optimizer = optim.AdamW(net.parameters(), lr=0.001) #, momentum=0.9)\n",
    "\n",
    "# Training the network\n",
    "for epoch in tqdm(range(NEPOCH)):  # loop over the dataset multiple times\n",
    "    running_loss = 0.0\n",
    "    for i, data in enumerate(trainloader, 0):\n",
    "        inputs, labels = data\n",
    "\n",
    "        optimizer.zero_grad()\n",
    "        outputs = net(inputs)\n",
    "        loss = criterion(outputs, labels)\n",
    "        loss.backward()\n",
    "        optimizer.step()\n",
    "\n",
    "        running_loss += loss.item()\n",
    "        if i % 2000 == 1999:    # print every 2000 mini-batches\n",
    "            print('[%d, %5d] loss: %.3f' % (epoch + 1, i + 1, running_loss / 2000))\n",
    "            running_loss = 0.0\n",
    "\n",
    "print('Finished Training')\n",
    "\n",
    "# Testing the network on the test data\n",
    "correct = 0\n",
    "total = 0\n",
    "with torch.no_grad():\n",
    "    for data in testloader:\n",
    "        images, labels = data\n",
    "        outputs = net(images)\n",
    "        _, predicted = torch.max(outputs.data, 1)\n",
    "        total += labels.size(0)\n",
    "        correct += (predicted == labels).sum().item()\n",
    "\n",
    "print(f'Accuracy of the network on the 10000 test images: {100 * correct // total} %')\n"
   ]
  },
  {
   "cell_type": "markdown",
   "metadata": {},
   "source": [
    "# 🔸 FFF"
   ]
  },
  {
   "cell_type": "code",
   "execution_count": 6,
   "metadata": {},
   "outputs": [],
   "source": [
    "! pip install -q lovely-tensors"
   ]
  },
  {
   "cell_type": "code",
   "execution_count": 7,
   "metadata": {},
   "outputs": [],
   "source": [
    "import lovely_tensors as lt\n",
    "lt.monkey_patch()"
   ]
  },
  {
   "cell_type": "code",
   "execution_count": 8,
   "metadata": {},
   "outputs": [],
   "source": [
    "class FFF(nn.Module):\n",
    "  def __init__(self, nIn, nOut, depth=8) -> None:\n",
    "    super().__init__()\n",
    "\n",
    "    self.input_width = nIn\n",
    "    self.output_width = nOut\n",
    "    self.depth = depth\n",
    "    self.n_nodes = 2**depth - 1\n",
    "\n",
    "    self._initiate_weights()\n",
    "\n",
    "  def _initiate_weights(self):\n",
    "    # init_factor_I1 = 1 / math.sqrt(self.input_width)\n",
    "    # init_factor_I2 = 1 / math.sqrt(self.depth + 1)\n",
    "    # def create_weight_parameter(n_nodes, width, init_factor):\n",
    "    #     return nn.Parameter(torch.empty(n_nodes, width).uniform_(-init_factor, init_factor))\n",
    "    # self.w1s = create_weight_parameter(n_nodes, width, init_factor_I1)\n",
    "    # self.w2s = create_weight_parameter(n_nodes, width, init_factor_I2)\n",
    "\n",
    "    def create_random_unit_vectors(n_nodes, width):\n",
    "        weights = torch.randn(n_nodes, width)  # Initialize weights randomly\n",
    "        weights = F.normalize(weights, p=2, dim=-1)  # L2-Normalize along the last dimension\n",
    "        return nn.Parameter(weights)\n",
    "\n",
    "    self.w1s = create_random_unit_vectors(self.n_nodes, self.input_width)\n",
    "    self.w2s = create_random_unit_vectors(self.n_nodes, self.output_width)\n",
    "\n",
    "\n",
    "  def forward(self, x: torch.Tensor):\n",
    "    batch_size = x.shape[0]\n",
    "\n",
    "    # concurrent for batch size (bs, )\n",
    "    current_node = torch.zeros((batch_size,), dtype=torch.int)\n",
    "\n",
    "    winner_indices = torch.zeros(batch_size, self.depth, dtype=torch.int)\n",
    "    winner_lambdas = torch.empty((batch_size, self.depth), dtype=torch.float)\n",
    "\n",
    "    for i in range(self.depth):\n",
    "      # compute plane scores\n",
    "      # dot product between input (x) and weights of the current node (w1s)\n",
    "      # result is scalar of shape (bs)\n",
    "      lambda_ = torch.einsum('b i, b i -> b', x, self.w1s[current_node])\n",
    "      winner_indices[:, i] = current_node\n",
    "\n",
    "      winner_lambdas[:, i] = lambda_\n",
    "\n",
    "      # compute next node (left or right)\n",
    "      plane_choice = (lambda_ > 0).long()\n",
    "      current_node = (current_node * 2) + plane_choice + 1\n",
    "\n",
    "    # from: https://github.com/karpathy/minGPT/blob/master/mingpt/model.py#L29\n",
    "    # FF_41( GeLU ( FF_14(x) )))\n",
    "\n",
    "    # GeLU(FF_14 @ x) @ FF_41\n",
    "    # GeLU(W1(x) @ x) @ W2(x)\n",
    "    selected_w2s = self.w2s[winner_indices.flatten()].view(batch_size, self.depth, self.output_width)\n",
    "    # y = torch.einsum('b i j , b i -> b j', selected_w2s, F.gelu(all_logits))\n",
    "    y = torch.einsum('b i j , b i -> b j', selected_w2s, winner_lambdas)\n",
    "    return y"
   ]
  },
  {
   "cell_type": "code",
   "execution_count": 9,
   "metadata": {},
   "outputs": [
    {
     "name": "stderr",
     "output_type": "stream",
     "text": [
      "  0%|          | 0/5 [00:00<?, ?it/s]"
     ]
    },
    {
     "name": "stdout",
     "output_type": "stream",
     "text": [
      "[1,   100] loss: 1.741\n",
      "[1,   200] loss: 0.943\n",
      "[1,   300] loss: 0.712\n",
      "[1,   400] loss: 0.605\n",
      "[1,   500] loss: 0.545\n",
      "[1,   600] loss: 0.516\n",
      "[1,   700] loss: 0.463\n",
      "[1,   800] loss: 0.460\n",
      "[1,   900] loss: 0.423\n"
     ]
    },
    {
     "name": "stderr",
     "output_type": "stream",
     "text": [
      " 20%|██        | 1/5 [00:10<00:42, 10.74s/it]"
     ]
    },
    {
     "name": "stdout",
     "output_type": "stream",
     "text": [
      "[2,   100] loss: 0.390\n",
      "[2,   200] loss: 0.387\n",
      "[2,   300] loss: 0.352\n",
      "[2,   400] loss: 0.377\n",
      "[2,   500] loss: 0.369\n",
      "[2,   600] loss: 0.343\n",
      "[2,   700] loss: 0.381\n",
      "[2,   800] loss: 0.360\n",
      "[2,   900] loss: 0.327\n"
     ]
    },
    {
     "name": "stderr",
     "output_type": "stream",
     "text": [
      " 40%|████      | 2/5 [00:21<00:32, 10.70s/it]"
     ]
    },
    {
     "name": "stdout",
     "output_type": "stream",
     "text": [
      "[3,   100] loss: 0.316\n",
      "[3,   200] loss: 0.303\n",
      "[3,   300] loss: 0.324\n",
      "[3,   400] loss: 0.308\n",
      "[3,   500] loss: 0.300\n",
      "[3,   600] loss: 0.312\n",
      "[3,   700] loss: 0.306\n",
      "[3,   800] loss: 0.296\n",
      "[3,   900] loss: 0.279\n"
     ]
    },
    {
     "name": "stderr",
     "output_type": "stream",
     "text": [
      " 60%|██████    | 3/5 [00:32<00:21, 10.68s/it]"
     ]
    },
    {
     "name": "stdout",
     "output_type": "stream",
     "text": [
      "[4,   100] loss: 0.290\n",
      "[4,   200] loss: 0.282\n",
      "[4,   300] loss: 0.303\n",
      "[4,   400] loss: 0.293\n",
      "[4,   500] loss: 0.278\n",
      "[4,   600] loss: 0.315\n",
      "[4,   700] loss: 0.278\n",
      "[4,   800] loss: 0.280\n",
      "[4,   900] loss: 0.282\n"
     ]
    },
    {
     "name": "stderr",
     "output_type": "stream",
     "text": [
      " 80%|████████  | 4/5 [00:42<00:10, 10.73s/it]"
     ]
    },
    {
     "name": "stdout",
     "output_type": "stream",
     "text": [
      "[5,   100] loss: 0.270\n",
      "[5,   200] loss: 0.275\n",
      "[5,   300] loss: 0.283\n",
      "[5,   400] loss: 0.294\n",
      "[5,   500] loss: 0.255\n",
      "[5,   600] loss: 0.279\n",
      "[5,   700] loss: 0.291\n",
      "[5,   800] loss: 0.248\n",
      "[5,   900] loss: 0.273\n"
     ]
    },
    {
     "name": "stderr",
     "output_type": "stream",
     "text": [
      "100%|██████████| 5/5 [00:53<00:00, 10.73s/it]\n"
     ]
    },
    {
     "name": "stdout",
     "output_type": "stream",
     "text": [
      "Finished Training\n",
      "Accuracy of the network on the 10000 test images: 92 %\n"
     ]
    }
   ],
   "source": [
    "# Neural network architecture\n",
    "class Net(nn.Module):\n",
    "    def __init__(self):\n",
    "        super(Net, self).__init__()\n",
    "        self.fc1 = FFF(nIn=28*28, nOut=500, depth=8)\n",
    "        self.fc2 = FFF(nIn=500, nOut=10, depth=8)\n",
    "        # self.fc1 = FFF(nIn=28*28, nOut=10)\n",
    "    def forward(self, x):\n",
    "        x = x.view(-1, 28*28)\n",
    "        # y_hat = self.fc2(torch.relu(self.fc1(x)))\n",
    "        y_hat = self.fc2(self.fc1(x))\n",
    "        # y_hat = self.fc1(x)\n",
    "        return y_hat\n",
    "\n",
    "net = Net()\n",
    "\n",
    "# Loss function and optimizer\n",
    "criterion = nn.CrossEntropyLoss()\n",
    "optimizer = optim.AdamW(net.parameters(), lr=0.001) #, momentum=0.9)\n",
    "\n",
    "# Training the network\n",
    "for epoch in tqdm(range(NEPOCH)):  # loop over the dataset multiple times\n",
    "    running_loss = 0.0\n",
    "    for i, data in enumerate(trainloader, 0):\n",
    "        inputs, labels = data\n",
    "\n",
    "        optimizer.zero_grad()\n",
    "        outputs = net(inputs)\n",
    "        loss = criterion(outputs, labels)\n",
    "        loss.backward()\n",
    "        optimizer.step()\n",
    "\n",
    "        running_loss += loss.item()\n",
    "        if i % 100 == 99:    # print every 2000 mini-batches\n",
    "            print('[%d, %5d] loss: %.3f' % (epoch + 1, i + 1, running_loss / 100))\n",
    "            running_loss = 0.0\n",
    "\n",
    "print('Finished Training')\n",
    "\n",
    "# Testing the network on the test data\n",
    "correct = 0\n",
    "total = 0\n",
    "with torch.no_grad():\n",
    "    for data in testloader:\n",
    "        images, labels = data\n",
    "        outputs = net(images)\n",
    "        _, predicted = torch.max(outputs.data, 1)\n",
    "        total += labels.size(0)\n",
    "        correct += (predicted == labels).sum().item()\n",
    "\n",
    "print(f'Accuracy of the network on the 10000 test images: {100 * correct // total} %')\n"
   ]
  },
  {
   "cell_type": "code",
   "execution_count": 10,
   "metadata": {},
   "outputs": [
    {
     "data": {
      "text/plain": [
       "'\\n  0%|          | 0/5 [00:00<?, ?it/s]\\n[1,   100] loss: 2.112\\n[1,   200] loss: 1.615\\n[1,   300] loss: 1.647\\n[1,   400] loss: 1.540\\n[1,   500] loss: 1.393\\n[1,   600] loss: 1.377\\n[1,   700] loss: 1.228\\n[1,   800] loss: 1.451\\n[1,   900] loss: 1.432\\n 20%|██        | 1/5 [12:54<51:39, 774.81s/it]\\n'"
      ]
     },
     "execution_count": 10,
     "metadata": {},
     "output_type": "execute_result"
    }
   ],
   "source": [
    "# Neural network architecture\n",
    "class _Net(nn.Module):\n",
    "    def __init__(self):\n",
    "        super(Net, self).__init__()\n",
    "        self.fc1 = FFF(nIn=28*28, nOut=10, depth=16)\n",
    "    def forward(self, x):\n",
    "        x = x.view(-1, 28*28)\n",
    "        y_hat = self.fc1(x)\n",
    "        return y_hat\n",
    "\n",
    "'''\n",
    "  0%|          | 0/5 [00:00<?, ?it/s]\n",
    "[1,   100] loss: 2.112\n",
    "[1,   200] loss: 1.615\n",
    "[1,   300] loss: 1.647\n",
    "[1,   400] loss: 1.540\n",
    "[1,   500] loss: 1.393\n",
    "[1,   600] loss: 1.377\n",
    "[1,   700] loss: 1.228\n",
    "[1,   800] loss: 1.451\n",
    "[1,   900] loss: 1.432\n",
    " 20%|██        | 1/5 [12:54<51:39, 774.81s/it]\n",
    "'''\n",
    "# ^ 12 mins is too long\n",
    "\n"
   ]
  }
 ],
 "metadata": {
  "kernelspec": {
   "display_name": ".venv",
   "language": "python",
   "name": "python3"
  },
  "language_info": {
   "codemirror_mode": {
    "name": "ipython",
    "version": 3
   },
   "file_extension": ".py",
   "mimetype": "text/x-python",
   "name": "python",
   "nbconvert_exporter": "python",
   "pygments_lexer": "ipython3",
   "version": "3.11.6"
  }
 },
 "nbformat": 4,
 "nbformat_minor": 2
}
