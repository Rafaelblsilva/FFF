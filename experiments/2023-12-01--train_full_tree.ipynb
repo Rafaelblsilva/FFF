{
 "cells": [
  {
   "cell_type": "markdown",
   "metadata": {},
   "source": [
    "# Train Full Tree\n",
    "\n",
    "The first paper version suggests using the WHOLE tree during training, and ONLY\n",
    "during inference do we choose a single path thru the tree.\n",
    "\n",
    "Notice the `p` and `1-p` in the diagram.\n",
    "\n",
    "So let's do it!\n",
    "\n",
    "```\n",
    "Accuracy of the network over test images: 97.370 %\n",
    "```\n"
   ]
  },
  {
   "cell_type": "code",
   "execution_count": 1,
   "metadata": {},
   "outputs": [],
   "source": [
    "EVERY_N = 200\n",
    "NEPOCH = 10\n",
    "BATCH_SIZE = 256\n",
    "INIT_STRAT = 'hyperspherical-shell'\n",
    "DEPTH = 8\n"
   ]
  },
  {
   "cell_type": "code",
   "execution_count": 2,
   "metadata": {},
   "outputs": [],
   "source": [
    "import torch as torch\n",
    "import torch.nn as nn\n",
    "from typing import Optional\n",
    "from math import floor, log2, sqrt\n",
    "import torch.nn.functional as F\n",
    "import torch.optim as optim\n",
    "from tqdm import tqdm"
   ]
  },
  {
   "cell_type": "code",
   "execution_count": 3,
   "metadata": {},
   "outputs": [
    {
     "name": "stdout",
     "output_type": "stream",
     "text": [
      "y: tensor([[-0.2318,  0.3069, -0.0949,  0.6865, -0.1751,  0.2108, -0.4833, -0.6652,\n",
      "          0.5381,  0.0780],\n",
      "        [ 0.1936, -0.3158,  0.1007, -0.4679,  0.3560, -0.1575,  0.1962,  0.5556,\n",
      "         -0.6976, -0.3377]], grad_fn=<AddBackward0>)\n",
      "x.grad: tensor([[-0.0090, -0.3167,  0.1280,  0.2915,  0.4237, -0.3709, -0.0853, -0.1341,\n",
      "          0.1077, -0.0385],\n",
      "        [-0.0338,  0.4347, -0.2762, -0.3213, -0.4947,  0.2217,  0.1488,  0.0905,\n",
      "         -0.2188,  0.0957]])\n"
     ]
    }
   ],
   "source": [
    "class FFF(nn.Module):\n",
    "    def __init__(self, nIn: int, nOut: int, depth: Optional[int] = None):\n",
    "        super().__init__()\n",
    "        self.depth = depth or int(floor(log2(nIn)))  # depth is the number of decision boundaries\n",
    "        nNodes = 2 ** self.depth - 1\n",
    "\n",
    "        # each node \"holds\" a basis-vector in INPUT space (.X) and in OUTPUT space (.Y)\n",
    "\n",
    "        if INIT_STRAT == 'gaussian':\n",
    "            # This from orig authors; scaling looks off for self.Y\n",
    "            def create_basis_vectors_of(length, scaling):\n",
    "                return nn.Parameter(torch.empty(nNodes, length).uniform_(-scaling, scaling))\n",
    "            self.X = create_basis_vectors_of(length=nIn, scaling=1/sqrt(nIn))\n",
    "            self.Y = create_basis_vectors_of(length=nOut, scaling=1/sqrt(self.depth + 1))\n",
    "\n",
    "        elif INIT_STRAT == 'hyperspherical-shell':\n",
    "            # Initialize vectors on INPUT/OUTPUT space unit hypersphere\n",
    "            #   (idea: basis vectors should be of unit length).\n",
    "            def create_random_unit_vectors_of(length):\n",
    "                weights = torch.randn(nNodes, length)  # Initialize weights randomly\n",
    "                weights = F.normalize(weights, p=2, dim=-1)  # L2-Normalize along the last dimension\n",
    "                return nn.Parameter(weights)\n",
    "            self.X = create_random_unit_vectors_of(length=nIn)\n",
    "            self.Y = create_random_unit_vectors_of(length=nOut)\n",
    "\n",
    "    def forward(self, x: torch.Tensor):\n",
    "        nBatch, nOut, nNodes = x.shape[0], self.Y.shape[-1], 2 ** self.depth - 1\n",
    "\n",
    "        # Walk the tree, assembling y piecemeal\n",
    "        y = torch.zeros((nBatch, nOut), dtype=torch.float, device=x.device, requires_grad=True)\n",
    "        \n",
    "        def process_node(nodeIndex, p_in):\n",
    "            nonlocal y\n",
    "            if nodeIndex >= nNodes:\n",
    "                return\n",
    "\n",
    "            # Project x onto the current node's INPUT basis vector\n",
    "            #   λ = x DOT currNode.X\n",
    "            # (nBatch, nIn) nIn -> nBatch\n",
    "            λ = torch.einsum(\"b i, i -> b\", x, self.X[nodeIndex])\n",
    "\n",
    "            # Project this contribution into OUTPUT space:\n",
    "            #   y += λ currNode.Y\n",
    "            # nBatch, nOut -> (nBatch, nOut)\n",
    "            # y += torch.einsum(\"b, j -> b j\", λ, self.Y[nodeIndex])\n",
    "            dy = torch.einsum(\"b, j -> b j\", λ, self.Y[nodeIndex])\n",
    "            y = y + torch.einsum(\"b, b j -> b j\", p_in, dy)\n",
    "\n",
    "            p = torch.sigmoid(λ)\n",
    "            process_node((nodeIndex * 2) + 1, p)\n",
    "            process_node((nodeIndex * 2) + 2, 1-p)\n",
    "\n",
    "        process_node(\n",
    "            nodeIndex=0,\n",
    "            p_in = torch.ones((nBatch), dtype=torch.float, requires_grad=True)\n",
    "        )\n",
    "        return y\n",
    "\n",
    "    def __repr__(self):\n",
    "        return f\"FFF({self.X.shape[-1]}, {self.Y.shape[-1]}, depth={self.depth})\"\n",
    "\n",
    "fff = FFF(nIn=10, nOut=10, depth=2)\n",
    "nBatch = 2\n",
    "x = torch.randn((nBatch, 10), requires_grad=True)\n",
    "y = fff(x)\n",
    "print('y:', y)\n",
    "cost = torch.norm(y)\n",
    "cost.backward()\n",
    "print('x.grad:', x.grad)\n",
    "\n"
   ]
  },
  {
   "cell_type": "code",
   "execution_count": 4,
   "metadata": {},
   "outputs": [
    {
     "data": {
      "text/plain": [
       "torch.Size([2, 10])"
      ]
     },
     "execution_count": 4,
     "metadata": {},
     "output_type": "execute_result"
    }
   ],
   "source": [
    "# torch.Size([2, 10]) torch.Size([10])\n",
    "\n",
    "p, q = torch.randn((2, 10)), torch.randn(10)\n",
    "p.shape, q.shape\n",
    "\n",
    "λ = torch.einsum(\"b i, i -> b\", p, q)\n",
    "\n",
    "# nBatch, nOut -> (nBatch, nOut)\n",
    "Y = torch.randn((10))\n",
    "y = torch.einsum(\"b, j -> b j\", λ, Y)\n",
    "y.shape\n"
   ]
  },
  {
   "cell_type": "code",
   "execution_count": 5,
   "metadata": {},
   "outputs": [],
   "source": [
    "# Load MNIST\n",
    "import torchvision\n",
    "import torchvision.transforms as transforms\n",
    "\n",
    "# Transformations\n",
    "transform = transforms.Compose([transforms.ToTensor(), transforms.Normalize((0.5,), (0.5,))])\n",
    "\n",
    "# MNIST dataset\n",
    "trainset = torchvision.datasets.MNIST(root='./data', train=True, download=True, transform=transform)\n",
    "testset = torchvision.datasets.MNIST(root='./data', train=False, download=True, transform=transform)\n",
    "\n",
    "# Data loaders\n",
    "trainloader = torch.utils.data.DataLoader(trainset, batch_size=BATCH_SIZE, shuffle=True)\n",
    "testloader = torch.utils.data.DataLoader(testset, batch_size=len(testset), shuffle=False)\n",
    "\n",
    "# Test harness\n",
    "# We'll use this later\n",
    "def orthogonality_loss(basis_vectors):\n",
    "    # Compute pairwise dot products\n",
    "    dot_products = torch.matmul(basis_vectors, basis_vectors.T)\n",
    "    \n",
    "    # Zero out diagonal elements (self dot products)\n",
    "    eye = torch.eye(dot_products.size(0)).to(dot_products.device)\n",
    "    dot_products = dot_products * (1 - eye)\n",
    "    \n",
    "    # Sum of squares of off-diagonal elements (which should be close to zero)\n",
    "    loss = (dot_products ** 2).sum()\n",
    "    return loss\n",
    "def train_and_test(net, ortho=False):\n",
    "    # Loss function and optimizer\n",
    "    criterion = nn.CrossEntropyLoss()\n",
    "    optimizer = optim.AdamW(net.parameters(), lr=0.001) #, momentum=0.9)\n",
    "\n",
    "    # Training the network\n",
    "    for epoch in tqdm(range(NEPOCH)):  # loop over the dataset multiple times\n",
    "        running_loss = 0.0\n",
    "        for i, data in enumerate(trainloader, 0):\n",
    "            inputs, labels = data\n",
    "\n",
    "            optimizer.zero_grad()\n",
    "            outputs = net(inputs)\n",
    "            loss = criterion(outputs, labels)\n",
    "            if ortho:  # hasattr(net, 'orthogonality_penalty'):\n",
    "                loss += .001 * net.orthogonality_penalty()\n",
    "            loss.backward()\n",
    "            optimizer.step()\n",
    "\n",
    "            running_loss += loss.item()\n",
    "            if i % EVERY_N == EVERY_N - 1:  # print EVERY_N mini-batches\n",
    "                print(f'[{epoch + 1}, {i + 1:5d}] loss: {running_loss / EVERY_N:.3f}')\n",
    "                running_loss = 0.0\n",
    "\n",
    "    print('Finished Training')\n",
    "\n",
    "    # Testing the network on the test data\n",
    "    correct, total = 0, 0\n",
    "    with torch.no_grad():\n",
    "        for data in testloader:\n",
    "            images, labels = data\n",
    "            outputs = net(images)\n",
    "            _, predicted = torch.max(outputs.data, 1)\n",
    "            total += labels.size(0)\n",
    "            correct += (predicted == labels).sum().item()\n",
    "\n",
    "    print(f'Accuracy of the network over test images: {100 * correct / total:.3f} %')\n"
   ]
  },
  {
   "cell_type": "code",
   "execution_count": 6,
   "metadata": {},
   "outputs": [
    {
     "name": "stderr",
     "output_type": "stream",
     "text": [
      "  0%|          | 0/10 [00:00<?, ?it/s]"
     ]
    },
    {
     "name": "stdout",
     "output_type": "stream",
     "text": [
      "[1,   200] loss: 0.323\n"
     ]
    },
    {
     "name": "stderr",
     "output_type": "stream",
     "text": [
      " 10%|█         | 1/10 [00:47<07:08, 47.57s/it]"
     ]
    },
    {
     "name": "stdout",
     "output_type": "stream",
     "text": [
      "[2,   200] loss: 0.123\n"
     ]
    },
    {
     "name": "stderr",
     "output_type": "stream",
     "text": [
      " 20%|██        | 2/10 [01:36<06:27, 48.42s/it]"
     ]
    },
    {
     "name": "stdout",
     "output_type": "stream",
     "text": [
      "[3,   200] loss: 0.092\n"
     ]
    },
    {
     "name": "stderr",
     "output_type": "stream",
     "text": [
      " 30%|███       | 3/10 [02:23<05:32, 47.56s/it]"
     ]
    },
    {
     "name": "stdout",
     "output_type": "stream",
     "text": [
      "[4,   200] loss: 0.079\n"
     ]
    },
    {
     "name": "stderr",
     "output_type": "stream",
     "text": [
      " 40%|████      | 4/10 [03:08<04:40, 46.79s/it]"
     ]
    },
    {
     "name": "stdout",
     "output_type": "stream",
     "text": [
      "[5,   200] loss: 0.065\n"
     ]
    },
    {
     "name": "stderr",
     "output_type": "stream",
     "text": [
      " 50%|█████     | 5/10 [03:54<03:51, 46.28s/it]"
     ]
    },
    {
     "name": "stdout",
     "output_type": "stream",
     "text": [
      "[6,   200] loss: 0.072\n"
     ]
    },
    {
     "name": "stderr",
     "output_type": "stream",
     "text": [
      " 60%|██████    | 6/10 [04:42<03:08, 47.03s/it]"
     ]
    },
    {
     "name": "stdout",
     "output_type": "stream",
     "text": [
      "[7,   200] loss: 0.051\n"
     ]
    },
    {
     "name": "stderr",
     "output_type": "stream",
     "text": [
      " 70%|███████   | 7/10 [05:29<02:20, 46.95s/it]"
     ]
    },
    {
     "name": "stdout",
     "output_type": "stream",
     "text": [
      "[8,   200] loss: 0.052\n"
     ]
    },
    {
     "name": "stderr",
     "output_type": "stream",
     "text": [
      " 80%|████████  | 8/10 [06:14<01:33, 46.50s/it]"
     ]
    },
    {
     "name": "stdout",
     "output_type": "stream",
     "text": [
      "[9,   200] loss: 0.045\n"
     ]
    },
    {
     "name": "stderr",
     "output_type": "stream",
     "text": [
      " 90%|█████████ | 9/10 [07:01<00:46, 46.47s/it]"
     ]
    },
    {
     "name": "stdout",
     "output_type": "stream",
     "text": [
      "[10,   200] loss: 0.039\n"
     ]
    },
    {
     "name": "stderr",
     "output_type": "stream",
     "text": [
      "100%|██████████| 10/10 [07:49<00:00, 46.91s/it]\n"
     ]
    },
    {
     "name": "stdout",
     "output_type": "stream",
     "text": [
      "Finished Training\n",
      "Accuracy of the network over test images: 97.370 %\n"
     ]
    }
   ],
   "source": [
    "# Neural network architecture\n",
    "class Net(nn.Module):\n",
    "    def __init__(self):\n",
    "        super(Net, self).__init__()\n",
    "        self.fc1 = FFF(nIn=28*28, nOut=500, depth=DEPTH)\n",
    "        self.fc2 = FFF(nIn=500, nOut=10, depth=DEPTH)\n",
    "    def forward(self, x):\n",
    "        x = x.view(-1, 28*28)\n",
    "        y_hat = self.fc2(torch.relu(self.fc1(x)))\n",
    "        # y_hat = self.fc2(self.fc1(x))\n",
    "        return y_hat\n",
    "    def orthogonality_penalty(self):\n",
    "        # Calculate orthogonality loss for each PiSlice layer\n",
    "        loss1 = orthogonality_loss(self.fc1.X) + orthogonality_loss(self.fc1.Y)\n",
    "        loss2 = orthogonality_loss(self.fc2.X) + orthogonality_loss(self.fc2.Y)\n",
    "        return loss1 + loss2\n",
    "\n",
    "train_and_test(Net())\n",
    "# train_and_test(Net(), ortho=True)"
   ]
  },
  {
   "cell_type": "code",
   "execution_count": null,
   "metadata": {},
   "outputs": [],
   "source": []
  }
 ],
 "metadata": {
  "kernelspec": {
   "display_name": ".venv",
   "language": "python",
   "name": "python3"
  },
  "language_info": {
   "codemirror_mode": {
    "name": "ipython",
    "version": 3
   },
   "file_extension": ".py",
   "mimetype": "text/x-python",
   "name": "python",
   "nbconvert_exporter": "python",
   "pygments_lexer": "ipython3",
   "version": "3.11.6"
  }
 },
 "nbformat": 4,
 "nbformat_minor": 2
}
