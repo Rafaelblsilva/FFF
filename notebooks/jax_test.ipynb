{
 "cells": [
  {
   "cell_type": "code",
   "execution_count": 1,
   "metadata": {},
   "outputs": [],
   "source": [
    "import sys\n",
    "if \"../FFF\" not in sys.path:\n",
    "    sys.path.insert(0, \"../FFF\")\n",
    "\n",
    "%load_ext autoreload\n",
    "%autoreload 2\n",
    "from fff_jax import FFF"
   ]
  },
  {
   "cell_type": "code",
   "execution_count": 2,
   "metadata": {},
   "outputs": [
    {
     "name": "stdout",
     "output_type": "stream",
     "text": [
      "[[-10.50268   -24.063179  -68.96149    80.469666   46.01865   -48.93973\n",
      "    1.7024746 -56.958427   16.52786    47.386997   27.267132    5.9570837\n",
      "   37.897617  -79.5482    -10.560838  -50.72628    50.368805  -17.935818\n",
      "  -17.968925   10.706549    5.9203243   8.137325  -29.083939  -13.605515\n",
      "  -12.136448   18.940998  -44.20135   -34.352642  -17.766531   51.595306\n",
      "  -32.811577  -13.600054    9.172255  -50.302994   11.632357    7.379253\n",
      "    2.0726576  -8.983307  -15.692347   45.500935   37.1037    -36.57796\n",
      "   47.594326    5.4768767  15.857134   49.178806   13.413988  -16.908909\n",
      "   34.54607    71.04155    21.399078   -5.744772   25.37402   -75.45375\n",
      "  -23.207829   31.535137    8.397606   30.228968  -86.604065   16.374088\n",
      "  -58.490726   24.056278   23.013855   22.444557 ]]\n"
     ]
    }
   ],
   "source": [
    "import jax\n",
    "import jax.numpy as jnp\n",
    "from fff_jax import FFF\n",
    "\n",
    "# Create a PRNG key for initialization\n",
    "rng = jax.random.PRNGKey(0)\n",
    "\n",
    "# Create an instance of the model\n",
    "fff_layer = FFF(nIn=128, nOut=64)\n",
    "\n",
    "# Initialize the model to get the initial parameters\n",
    "input_shape = (1, 128)  # Define the input shape\n",
    "params = fff_layer.init(rng, jnp.ones(input_shape))['params']\n",
    "\n",
    "# Create some input data\n",
    "input_data = jax.random.normal(rng, (1, 128))\n",
    "\n",
    "# Apply the model to the input data\n",
    "output = fff_layer.apply({'params': params}, input_data)\n",
    "\n",
    "print(output)"
   ]
  },
  {
   "cell_type": "code",
   "execution_count": null,
   "metadata": {},
   "outputs": [],
   "source": []
  }
 ],
 "metadata": {
  "kernelspec": {
   "display_name": ".venv",
   "language": "python",
   "name": "python3"
  },
  "language_info": {
   "codemirror_mode": {
    "name": "ipython",
    "version": 3
   },
   "file_extension": ".py",
   "mimetype": "text/x-python",
   "name": "python",
   "nbconvert_exporter": "python",
   "pygments_lexer": "ipython3",
   "version": "3.11.6"
  }
 },
 "nbformat": 4,
 "nbformat_minor": 2
}
